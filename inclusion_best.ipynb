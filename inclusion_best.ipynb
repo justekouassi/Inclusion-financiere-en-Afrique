{
 "cells": [
  {
   "attachments": {},
   "cell_type": "markdown",
   "metadata": {},
   "source": [
    "# Inclusion financière en Afrique"
   ]
  },
  {
   "attachments": {},
   "cell_type": "markdown",
   "metadata": {},
   "source": [
    "## 0. Préalable"
   ]
  },
  {
   "attachments": {},
   "cell_type": "markdown",
   "metadata": {},
   "source": [
    "### Importation des modules"
   ]
  },
  {
   "cell_type": "code",
   "execution_count": 1,
   "metadata": {},
   "outputs": [],
   "source": [
    "# numerical calculation\n",
    "import numpy as np\n",
    "# dataframe\n",
    "import pandas as pd\n",
    "# vizualisation\n",
    "import matplotlib.pyplot as plt\n",
    "import seaborn as sns\n",
    "# models\n",
    "from catboost import CatBoostClassifier\n",
    "# tuning\n",
    "from sklearn.model_selection import train_test_split\n",
    "# encoding\n",
    "from sklearn.preprocessing import OrdinalEncoder\n",
    "# scaling\n",
    "from sklearn.preprocessing import MinMaxScaler\n",
    "# metrics\n",
    "from sklearn.metrics import accuracy_score\n",
    "from sklearn.metrics import ConfusionMatrixDisplay\n",
    "\n",
    "import random\n",
    "from datetime import datetime as dt\n",
    "\n",
    "from joblib import Parallel, delayed\n",
    "import joblib"
   ]
  },
  {
   "cell_type": "code",
   "execution_count": 2,
   "metadata": {},
   "outputs": [],
   "source": [
    "# Set seed for reproducability\n",
    "SEED = 12\n",
    "random.seed(SEED)\n",
    "np.random.seed(SEED)"
   ]
  },
  {
   "attachments": {},
   "cell_type": "markdown",
   "metadata": {},
   "source": [
    "### Chargement du jeu de données"
   ]
  },
  {
   "cell_type": "code",
   "execution_count": 3,
   "metadata": {},
   "outputs": [],
   "source": [
    "DATA_PATH = 'data/' # repertoire des données\n",
    "train_set = pd.read_csv(DATA_PATH + 'Train.csv') # ensemble d'apprentissage\n",
    "test_set = pd.read_csv(DATA_PATH + 'Test.csv') # ensemble de test\n",
    "sample_submission = pd.read_csv(DATA_PATH + 'SampleSubmission.csv') # exemple de soumission"
   ]
  },
  {
   "cell_type": "code",
   "execution_count": 4,
   "metadata": {},
   "outputs": [
    {
     "data": {
      "text/html": [
       "<div>\n",
       "<style scoped>\n",
       "    .dataframe tbody tr th:only-of-type {\n",
       "        vertical-align: middle;\n",
       "    }\n",
       "\n",
       "    .dataframe tbody tr th {\n",
       "        vertical-align: top;\n",
       "    }\n",
       "\n",
       "    .dataframe thead th {\n",
       "        text-align: right;\n",
       "    }\n",
       "</style>\n",
       "<table border=\"1\" class=\"dataframe\">\n",
       "  <thead>\n",
       "    <tr style=\"text-align: right;\">\n",
       "      <th></th>\n",
       "      <th>country</th>\n",
       "      <th>year</th>\n",
       "      <th>uniqueid</th>\n",
       "      <th>bank_account</th>\n",
       "      <th>location_type</th>\n",
       "      <th>cellphone_access</th>\n",
       "      <th>household_size</th>\n",
       "      <th>age_of_respondent</th>\n",
       "      <th>gender_of_respondent</th>\n",
       "      <th>relationship_with_head</th>\n",
       "      <th>marital_status</th>\n",
       "      <th>education_level</th>\n",
       "      <th>job_type</th>\n",
       "    </tr>\n",
       "  </thead>\n",
       "  <tbody>\n",
       "    <tr>\n",
       "      <th>0</th>\n",
       "      <td>Kenya</td>\n",
       "      <td>2018</td>\n",
       "      <td>uniqueid_1</td>\n",
       "      <td>Yes</td>\n",
       "      <td>Rural</td>\n",
       "      <td>Yes</td>\n",
       "      <td>3</td>\n",
       "      <td>24</td>\n",
       "      <td>Female</td>\n",
       "      <td>Spouse</td>\n",
       "      <td>Married/Living together</td>\n",
       "      <td>Secondary education</td>\n",
       "      <td>Self employed</td>\n",
       "    </tr>\n",
       "    <tr>\n",
       "      <th>1</th>\n",
       "      <td>Kenya</td>\n",
       "      <td>2018</td>\n",
       "      <td>uniqueid_2</td>\n",
       "      <td>No</td>\n",
       "      <td>Rural</td>\n",
       "      <td>No</td>\n",
       "      <td>5</td>\n",
       "      <td>70</td>\n",
       "      <td>Female</td>\n",
       "      <td>Head of Household</td>\n",
       "      <td>Widowed</td>\n",
       "      <td>No formal education</td>\n",
       "      <td>Government Dependent</td>\n",
       "    </tr>\n",
       "    <tr>\n",
       "      <th>2</th>\n",
       "      <td>Kenya</td>\n",
       "      <td>2018</td>\n",
       "      <td>uniqueid_3</td>\n",
       "      <td>Yes</td>\n",
       "      <td>Urban</td>\n",
       "      <td>Yes</td>\n",
       "      <td>5</td>\n",
       "      <td>26</td>\n",
       "      <td>Male</td>\n",
       "      <td>Other relative</td>\n",
       "      <td>Single/Never Married</td>\n",
       "      <td>Vocational/Specialised training</td>\n",
       "      <td>Self employed</td>\n",
       "    </tr>\n",
       "    <tr>\n",
       "      <th>3</th>\n",
       "      <td>Kenya</td>\n",
       "      <td>2018</td>\n",
       "      <td>uniqueid_4</td>\n",
       "      <td>No</td>\n",
       "      <td>Rural</td>\n",
       "      <td>Yes</td>\n",
       "      <td>5</td>\n",
       "      <td>34</td>\n",
       "      <td>Female</td>\n",
       "      <td>Head of Household</td>\n",
       "      <td>Married/Living together</td>\n",
       "      <td>Primary education</td>\n",
       "      <td>Formally employed Private</td>\n",
       "    </tr>\n",
       "  </tbody>\n",
       "</table>\n",
       "</div>"
      ],
      "text/plain": [
       "  country  year    uniqueid bank_account location_type cellphone_access  \\\n",
       "0   Kenya  2018  uniqueid_1          Yes         Rural              Yes   \n",
       "1   Kenya  2018  uniqueid_2           No         Rural               No   \n",
       "2   Kenya  2018  uniqueid_3          Yes         Urban              Yes   \n",
       "3   Kenya  2018  uniqueid_4           No         Rural              Yes   \n",
       "\n",
       "   household_size  age_of_respondent gender_of_respondent  \\\n",
       "0               3                 24               Female   \n",
       "1               5                 70               Female   \n",
       "2               5                 26                 Male   \n",
       "3               5                 34               Female   \n",
       "\n",
       "  relationship_with_head           marital_status  \\\n",
       "0                 Spouse  Married/Living together   \n",
       "1      Head of Household                  Widowed   \n",
       "2         Other relative     Single/Never Married   \n",
       "3      Head of Household  Married/Living together   \n",
       "\n",
       "                   education_level                   job_type  \n",
       "0              Secondary education              Self employed  \n",
       "1              No formal education       Government Dependent  \n",
       "2  Vocational/Specialised training              Self employed  \n",
       "3                Primary education  Formally employed Private  "
      ]
     },
     "execution_count": 4,
     "metadata": {},
     "output_type": "execute_result"
    }
   ],
   "source": [
    "train_set.head(4)"
   ]
  },
  {
   "cell_type": "code",
   "execution_count": 5,
   "metadata": {},
   "outputs": [],
   "source": [
    "target = 'bank_account'"
   ]
  },
  {
   "attachments": {},
   "cell_type": "markdown",
   "metadata": {},
   "source": [
    "## 1. Analyse exploratoire"
   ]
  },
  {
   "attachments": {},
   "cell_type": "markdown",
   "metadata": {},
   "source": [
    "### 1.1. Analyse de la forme"
   ]
  },
  {
   "attachments": {},
   "cell_type": "markdown",
   "metadata": {},
   "source": [
    "La target de notre dataset est la variable **bank_account**."
   ]
  },
  {
   "attachments": {},
   "cell_type": "markdown",
   "metadata": {},
   "source": [
    "Dimension du dataset"
   ]
  },
  {
   "cell_type": "code",
   "execution_count": 5,
   "metadata": {},
   "outputs": [
    {
     "name": "stdout",
     "output_type": "stream",
     "text": [
      "Dimension du train set : (23524, 13)\n",
      "Dimension du test set : (10086, 12)\n"
     ]
    }
   ],
   "source": [
    "# Let’s observe the shape of our datasets.\n",
    "print('Dimension du train set :', train_set.shape)\n",
    "print('Dimension du test set :', test_set.shape)"
   ]
  },
  {
   "attachments": {},
   "cell_type": "markdown",
   "metadata": {},
   "source": [
    "Types des variables"
   ]
  },
  {
   "cell_type": "code",
   "execution_count": 6,
   "metadata": {},
   "outputs": [
    {
     "name": "stdout",
     "output_type": "stream",
     "text": [
      "<class 'pandas.core.frame.DataFrame'>\n",
      "RangeIndex: 23524 entries, 0 to 23523\n",
      "Data columns (total 13 columns):\n",
      " #   Column                  Non-Null Count  Dtype \n",
      "---  ------                  --------------  ----- \n",
      " 0   country                 23524 non-null  object\n",
      " 1   year                    23524 non-null  int64 \n",
      " 2   uniqueid                23524 non-null  object\n",
      " 3   bank_account            23524 non-null  object\n",
      " 4   location_type           23524 non-null  object\n",
      " 5   cellphone_access        23524 non-null  object\n",
      " 6   household_size          23524 non-null  int64 \n",
      " 7   age_of_respondent       23524 non-null  int64 \n",
      " 8   gender_of_respondent    23524 non-null  object\n",
      " 9   relationship_with_head  23524 non-null  object\n",
      " 10  marital_status          23524 non-null  object\n",
      " 11  education_level         23524 non-null  object\n",
      " 12  job_type                23524 non-null  object\n",
      "dtypes: int64(3), object(10)\n",
      "memory usage: 2.3+ MB\n"
     ]
    }
   ],
   "source": [
    "train_set.info()"
   ]
  },
  {
   "attachments": {},
   "cell_type": "markdown",
   "metadata": {},
   "source": [
    "Analyse des variables qualitatives"
   ]
  },
  {
   "cell_type": "code",
   "execution_count": 7,
   "metadata": {},
   "outputs": [
    {
     "data": {
      "text/html": [
       "<div>\n",
       "<style scoped>\n",
       "    .dataframe tbody tr th:only-of-type {\n",
       "        vertical-align: middle;\n",
       "    }\n",
       "\n",
       "    .dataframe tbody tr th {\n",
       "        vertical-align: top;\n",
       "    }\n",
       "\n",
       "    .dataframe thead th {\n",
       "        text-align: right;\n",
       "    }\n",
       "</style>\n",
       "<table border=\"1\" class=\"dataframe\">\n",
       "  <thead>\n",
       "    <tr style=\"text-align: right;\">\n",
       "      <th></th>\n",
       "      <th>country</th>\n",
       "      <th>uniqueid</th>\n",
       "      <th>bank_account</th>\n",
       "      <th>location_type</th>\n",
       "      <th>cellphone_access</th>\n",
       "      <th>gender_of_respondent</th>\n",
       "      <th>relationship_with_head</th>\n",
       "      <th>marital_status</th>\n",
       "      <th>education_level</th>\n",
       "      <th>job_type</th>\n",
       "    </tr>\n",
       "  </thead>\n",
       "  <tbody>\n",
       "    <tr>\n",
       "      <th>count</th>\n",
       "      <td>23524</td>\n",
       "      <td>23524</td>\n",
       "      <td>23524</td>\n",
       "      <td>23524</td>\n",
       "      <td>23524</td>\n",
       "      <td>23524</td>\n",
       "      <td>23524</td>\n",
       "      <td>23524</td>\n",
       "      <td>23524</td>\n",
       "      <td>23524</td>\n",
       "    </tr>\n",
       "    <tr>\n",
       "      <th>unique</th>\n",
       "      <td>4</td>\n",
       "      <td>8735</td>\n",
       "      <td>2</td>\n",
       "      <td>2</td>\n",
       "      <td>2</td>\n",
       "      <td>2</td>\n",
       "      <td>6</td>\n",
       "      <td>5</td>\n",
       "      <td>6</td>\n",
       "      <td>10</td>\n",
       "    </tr>\n",
       "    <tr>\n",
       "      <th>top</th>\n",
       "      <td>Rwanda</td>\n",
       "      <td>uniqueid_1</td>\n",
       "      <td>No</td>\n",
       "      <td>Rural</td>\n",
       "      <td>Yes</td>\n",
       "      <td>Female</td>\n",
       "      <td>Head of Household</td>\n",
       "      <td>Married/Living together</td>\n",
       "      <td>Primary education</td>\n",
       "      <td>Self employed</td>\n",
       "    </tr>\n",
       "    <tr>\n",
       "      <th>freq</th>\n",
       "      <td>8735</td>\n",
       "      <td>4</td>\n",
       "      <td>20212</td>\n",
       "      <td>14343</td>\n",
       "      <td>17454</td>\n",
       "      <td>13877</td>\n",
       "      <td>12831</td>\n",
       "      <td>10749</td>\n",
       "      <td>12791</td>\n",
       "      <td>6437</td>\n",
       "    </tr>\n",
       "  </tbody>\n",
       "</table>\n",
       "</div>"
      ],
      "text/plain": [
       "       country    uniqueid bank_account location_type cellphone_access  \\\n",
       "count    23524       23524        23524         23524            23524   \n",
       "unique       4        8735            2             2                2   \n",
       "top     Rwanda  uniqueid_1           No         Rural              Yes   \n",
       "freq      8735           4        20212         14343            17454   \n",
       "\n",
       "       gender_of_respondent relationship_with_head           marital_status  \\\n",
       "count                 23524                  23524                    23524   \n",
       "unique                    2                      6                        5   \n",
       "top                  Female      Head of Household  Married/Living together   \n",
       "freq                  13877                  12831                    10749   \n",
       "\n",
       "          education_level       job_type  \n",
       "count               23524          23524  \n",
       "unique                  6             10  \n",
       "top     Primary education  Self employed  \n",
       "freq                12791           6437  "
      ]
     },
     "execution_count": 7,
     "metadata": {},
     "output_type": "execute_result"
    }
   ],
   "source": [
    "train_set.select_dtypes(include='object').describe()"
   ]
  },
  {
   "cell_type": "code",
   "execution_count": 8,
   "metadata": {},
   "outputs": [
    {
     "name": "stdout",
     "output_type": "stream",
     "text": [
      "country\n",
      "Rwanda      8735\n",
      "Tanzania    6620\n",
      "Kenya       6068\n",
      "Uganda      2101\n",
      "Name: country, dtype: int64 \n",
      "\n",
      "year\n",
      "2016    8735\n",
      "2018    8169\n",
      "2017    6620\n",
      "Name: year, dtype: int64 \n",
      "\n",
      "uniqueid\n",
      "uniqueid_1       4\n",
      "uniqueid_1413    4\n",
      "uniqueid_1411    4\n",
      "uniqueid_1410    4\n",
      "uniqueid_1409    4\n",
      "                ..\n",
      "uniqueid_7318    1\n",
      "uniqueid_7317    1\n",
      "uniqueid_7316    1\n",
      "uniqueid_7315    1\n",
      "uniqueid_8759    1\n",
      "Name: uniqueid, Length: 8735, dtype: int64 \n",
      "\n",
      "bank_account\n",
      "No     20212\n",
      "Yes     3312\n",
      "Name: bank_account, dtype: int64 \n",
      "\n",
      "location_type\n",
      "Rural    14343\n",
      "Urban     9181\n",
      "Name: location_type, dtype: int64 \n",
      "\n",
      "cellphone_access\n",
      "Yes    17454\n",
      "No      6070\n",
      "Name: cellphone_access, dtype: int64 \n",
      "\n",
      "household_size\n",
      "2     5229\n",
      "3     3920\n",
      "4     3474\n",
      "1     3057\n",
      "5     2853\n",
      "6     2096\n",
      "7     1400\n",
      "8      751\n",
      "9      363\n",
      "10     190\n",
      "11      69\n",
      "12      68\n",
      "13      25\n",
      "15      11\n",
      "14      10\n",
      "16       4\n",
      "21       1\n",
      "18       1\n",
      "17       1\n",
      "20       1\n",
      "Name: household_size, dtype: int64 \n",
      "\n",
      "age_of_respondent\n",
      "30     1056\n",
      "35      836\n",
      "25      792\n",
      "28      748\n",
      "32      715\n",
      "       ... \n",
      "100       5\n",
      "93        4\n",
      "96        3\n",
      "99        2\n",
      "97        1\n",
      "Name: age_of_respondent, Length: 85, dtype: int64 \n",
      "\n",
      "gender_of_respondent\n",
      "Female    13877\n",
      "Male       9647\n",
      "Name: gender_of_respondent, dtype: int64 \n",
      "\n",
      "relationship_with_head\n",
      "Head of Household      12831\n",
      "Spouse                  6520\n",
      "Child                   2229\n",
      "Parent                  1086\n",
      "Other relative           668\n",
      "Other non-relatives      190\n",
      "Name: relationship_with_head, dtype: int64 \n",
      "\n",
      "marital_status\n",
      "Married/Living together    10749\n",
      "Single/Never Married        7983\n",
      "Widowed                     2708\n",
      "Divorced/Seperated          2076\n",
      "Dont know                      8\n",
      "Name: marital_status, dtype: int64 \n",
      "\n",
      "education_level\n",
      "Primary education                  12791\n",
      "No formal education                 4515\n",
      "Secondary education                 4223\n",
      "Tertiary education                  1157\n",
      "Vocational/Specialised training      803\n",
      "Other/Dont know/RTA                   35\n",
      "Name: education_level, dtype: int64 \n",
      "\n",
      "job_type\n",
      "Self employed                   6437\n",
      "Informally employed             5597\n",
      "Farming and Fishing             5441\n",
      "Remittance Dependent            2527\n",
      "Other Income                    1080\n",
      "Formally employed Private       1055\n",
      "No Income                        627\n",
      "Formally employed Government     387\n",
      "Government Dependent             247\n",
      "Dont Know/Refuse to answer       126\n",
      "Name: job_type, dtype: int64 \n",
      "\n"
     ]
    }
   ],
   "source": [
    "for colonne in list(train_set.columns):\n",
    "    print(colonne)\n",
    "    print(train_set[colonne].value_counts(), '\\n')"
   ]
  },
  {
   "attachments": {},
   "cell_type": "markdown",
   "metadata": {},
   "source": [
    "Analyse des variables quantitatives"
   ]
  },
  {
   "cell_type": "code",
   "execution_count": 9,
   "metadata": {},
   "outputs": [
    {
     "data": {
      "text/html": [
       "<div>\n",
       "<style scoped>\n",
       "    .dataframe tbody tr th:only-of-type {\n",
       "        vertical-align: middle;\n",
       "    }\n",
       "\n",
       "    .dataframe tbody tr th {\n",
       "        vertical-align: top;\n",
       "    }\n",
       "\n",
       "    .dataframe thead th {\n",
       "        text-align: right;\n",
       "    }\n",
       "</style>\n",
       "<table border=\"1\" class=\"dataframe\">\n",
       "  <thead>\n",
       "    <tr style=\"text-align: right;\">\n",
       "      <th></th>\n",
       "      <th>year</th>\n",
       "      <th>household_size</th>\n",
       "      <th>age_of_respondent</th>\n",
       "    </tr>\n",
       "  </thead>\n",
       "  <tbody>\n",
       "    <tr>\n",
       "      <th>count</th>\n",
       "      <td>23524.000000</td>\n",
       "      <td>23524.000000</td>\n",
       "      <td>23524.000000</td>\n",
       "    </tr>\n",
       "    <tr>\n",
       "      <th>mean</th>\n",
       "      <td>2016.975939</td>\n",
       "      <td>3.797483</td>\n",
       "      <td>38.805220</td>\n",
       "    </tr>\n",
       "    <tr>\n",
       "      <th>std</th>\n",
       "      <td>0.847371</td>\n",
       "      <td>2.227613</td>\n",
       "      <td>16.520569</td>\n",
       "    </tr>\n",
       "    <tr>\n",
       "      <th>min</th>\n",
       "      <td>2016.000000</td>\n",
       "      <td>1.000000</td>\n",
       "      <td>16.000000</td>\n",
       "    </tr>\n",
       "    <tr>\n",
       "      <th>25%</th>\n",
       "      <td>2016.000000</td>\n",
       "      <td>2.000000</td>\n",
       "      <td>26.000000</td>\n",
       "    </tr>\n",
       "    <tr>\n",
       "      <th>50%</th>\n",
       "      <td>2017.000000</td>\n",
       "      <td>3.000000</td>\n",
       "      <td>35.000000</td>\n",
       "    </tr>\n",
       "    <tr>\n",
       "      <th>75%</th>\n",
       "      <td>2018.000000</td>\n",
       "      <td>5.000000</td>\n",
       "      <td>49.000000</td>\n",
       "    </tr>\n",
       "    <tr>\n",
       "      <th>max</th>\n",
       "      <td>2018.000000</td>\n",
       "      <td>21.000000</td>\n",
       "      <td>100.000000</td>\n",
       "    </tr>\n",
       "  </tbody>\n",
       "</table>\n",
       "</div>"
      ],
      "text/plain": [
       "               year  household_size  age_of_respondent\n",
       "count  23524.000000    23524.000000       23524.000000\n",
       "mean    2016.975939        3.797483          38.805220\n",
       "std        0.847371        2.227613          16.520569\n",
       "min     2016.000000        1.000000          16.000000\n",
       "25%     2016.000000        2.000000          26.000000\n",
       "50%     2017.000000        3.000000          35.000000\n",
       "75%     2018.000000        5.000000          49.000000\n",
       "max     2018.000000       21.000000         100.000000"
      ]
     },
     "execution_count": 9,
     "metadata": {},
     "output_type": "execute_result"
    }
   ],
   "source": [
    "train_set.select_dtypes(include='number').describe()"
   ]
  },
  {
   "attachments": {},
   "cell_type": "markdown",
   "metadata": {},
   "source": [
    "Analyse des données manquantes"
   ]
  },
  {
   "cell_type": "code",
   "execution_count": 10,
   "metadata": {},
   "outputs": [
    {
     "data": {
      "text/plain": [
       "country                   0\n",
       "year                      0\n",
       "uniqueid                  0\n",
       "bank_account              0\n",
       "location_type             0\n",
       "cellphone_access          0\n",
       "household_size            0\n",
       "age_of_respondent         0\n",
       "gender_of_respondent      0\n",
       "relationship_with_head    0\n",
       "marital_status            0\n",
       "education_level           0\n",
       "job_type                  0\n",
       "dtype: int64"
      ]
     },
     "execution_count": 10,
     "metadata": {},
     "output_type": "execute_result"
    }
   ],
   "source": [
    "train_set.isnull().sum()"
   ]
  },
  {
   "attachments": {},
   "cell_type": "markdown",
   "metadata": {},
   "source": [
    "Super ! Notre dataset ne contient aucune donnée manquante."
   ]
  },
  {
   "cell_type": "code",
   "execution_count": 52,
   "metadata": {},
   "outputs": [
    {
     "data": {
      "image/png": "[encoded data removed]",
      "text/plain": [
       "<Figure size 1000x400 with 1 Axes>"
      ]
     },
     "metadata": {},
     "output_type": "display_data"
    }
   ],
   "source": [
    "# Check for outliers in the target variable\n",
    "plt.figure(figsize=(10, 4))\n",
    "sns.boxplot(x=train_set['age_of_respondent'])\n",
    "plt.title('Boxplot showing outliers - target variable')\n",
    "plt.show()"
   ]
  },
  {
   "attachments": {},
   "cell_type": "markdown",
   "metadata": {},
   "source": [
    "Il n'y a aucun outlier dans ce dataset."
   ]
  },
  {
   "attachments": {},
   "cell_type": "markdown",
   "metadata": {},
   "source": [
    "### 1.2. Analyse du fond"
   ]
  },
  {
   "attachments": {},
   "cell_type": "markdown",
   "metadata": {},
   "source": [
    "Analyse et visualisation de la target (bank_account)"
   ]
  },
  {
   "cell_type": "code",
   "execution_count": 6,
   "metadata": {},
   "outputs": [
    {
     "data": {
      "image/png": "[encoded data removed]",
      "text/plain": [
       "<Figure size 500x500 with 1 Axes>"
      ]
     },
     "metadata": {},
     "output_type": "display_data"
    }
   ],
   "source": [
    "# explorons la distribution de la target\n",
    "sns.catplot(data=train_set, x=target, kind='count')\n",
    "plt.show()"
   ]
  },
  {
   "attachments": {},
   "cell_type": "markdown",
   "metadata": {},
   "source": [
    "Compréhension des diffiérentes variables"
   ]
  },
  {
   "cell_type": "code",
   "execution_count": 13,
   "metadata": {},
   "outputs": [
    {
     "data": {
      "text/html": [
       "<div>\n",
       "<style scoped>\n",
       "    .dataframe tbody tr th:only-of-type {\n",
       "        vertical-align: middle;\n",
       "    }\n",
       "\n",
       "    .dataframe tbody tr th {\n",
       "        vertical-align: top;\n",
       "    }\n",
       "\n",
       "    .dataframe thead th {\n",
       "        text-align: right;\n",
       "    }\n",
       "</style>\n",
       "<table border=\"1\" class=\"dataframe\">\n",
       "  <thead>\n",
       "    <tr style=\"text-align: right;\">\n",
       "      <th></th>\n",
       "      <th>Variable Definitions</th>\n",
       "      <th>Unnamed: 1</th>\n",
       "    </tr>\n",
       "  </thead>\n",
       "  <tbody>\n",
       "    <tr>\n",
       "      <th>0</th>\n",
       "      <td>country</td>\n",
       "      <td>Country interviewee is in.</td>\n",
       "    </tr>\n",
       "    <tr>\n",
       "      <th>1</th>\n",
       "      <td>year</td>\n",
       "      <td>Year survey was done in.</td>\n",
       "    </tr>\n",
       "    <tr>\n",
       "      <th>2</th>\n",
       "      <td>uniqueid</td>\n",
       "      <td>Unique identifier for each interviewee</td>\n",
       "    </tr>\n",
       "    <tr>\n",
       "      <th>3</th>\n",
       "      <td>location_type</td>\n",
       "      <td>Type of location: Rural, Urban</td>\n",
       "    </tr>\n",
       "    <tr>\n",
       "      <th>4</th>\n",
       "      <td>cellphone_access</td>\n",
       "      <td>If interviewee has access to a cellphone: Yes, No</td>\n",
       "    </tr>\n",
       "    <tr>\n",
       "      <th>5</th>\n",
       "      <td>household_size</td>\n",
       "      <td>Number of people living in one house</td>\n",
       "    </tr>\n",
       "    <tr>\n",
       "      <th>6</th>\n",
       "      <td>age_of_respondent</td>\n",
       "      <td>The age of the interviewee</td>\n",
       "    </tr>\n",
       "    <tr>\n",
       "      <th>7</th>\n",
       "      <td>gender_of_respondent</td>\n",
       "      <td>Gender of interviewee: Male, Female</td>\n",
       "    </tr>\n",
       "    <tr>\n",
       "      <th>8</th>\n",
       "      <td>relationship_with_head</td>\n",
       "      <td>The interviewee’s relationship with the head o...</td>\n",
       "    </tr>\n",
       "    <tr>\n",
       "      <th>9</th>\n",
       "      <td>marital_status</td>\n",
       "      <td>The martial status of the interviewee: Married...</td>\n",
       "    </tr>\n",
       "    <tr>\n",
       "      <th>10</th>\n",
       "      <td>education_level</td>\n",
       "      <td>Highest level of education: No formal educatio...</td>\n",
       "    </tr>\n",
       "    <tr>\n",
       "      <th>11</th>\n",
       "      <td>job_type</td>\n",
       "      <td>Type of job interviewee has: Farming and Fishi...</td>\n",
       "    </tr>\n",
       "  </tbody>\n",
       "</table>\n",
       "</div>"
      ],
      "text/plain": [
       "      Variable Definitions                                         Unnamed: 1\n",
       "0                  country                         Country interviewee is in.\n",
       "1                     year                           Year survey was done in.\n",
       "2                 uniqueid             Unique identifier for each interviewee\n",
       "3            location_type                     Type of location: Rural, Urban\n",
       "4         cellphone_access  If interviewee has access to a cellphone: Yes, No\n",
       "5           household_size               Number of people living in one house\n",
       "6        age_of_respondent                         The age of the interviewee\n",
       "7     gender_of_respondent                Gender of interviewee: Male, Female\n",
       "8   relationship_with_head  The interviewee’s relationship with the head o...\n",
       "9           marital_status  The martial status of the interviewee: Married...\n",
       "10         education_level  Highest level of education: No formal educatio...\n",
       "11                job_type  Type of job interviewee has: Farming and Fishi..."
      ]
     },
     "execution_count": 13,
     "metadata": {},
     "output_type": "execute_result"
    }
   ],
   "source": [
    "variables_definitions = pd.read_csv(DATA_PATH + 'VariableDefinitions.csv') # schema de definition des variables\n",
    "variables_definitions"
   ]
  },
  {
   "attachments": {},
   "cell_type": "markdown",
   "metadata": {},
   "source": [
    "Matrice de corrélation de toutes les variables"
   ]
  },
  {
   "cell_type": "code",
   "execution_count": 59,
   "metadata": {},
   "outputs": [
    {
     "data": {
      "text/plain": [
       "<Axes: title={'center': 'Corrélation des features'}>"
      ]
     },
     "execution_count": 59,
     "metadata": {},
     "output_type": "execute_result"
    },
    {
     "data": {
      "image/png": "[encoded data removed]",
      "text/plain": [
       "<Figure size 640x480 with 2 Axes>"
      ]
     },
     "metadata": {},
     "output_type": "display_data"
    }
   ],
   "source": [
    "plt.title(\"Corrélation des features\")\n",
    "sns.heatmap(train_set.corr(numeric_only=True), linewidths=0.1, vmax=1.0, square=True, cmap=plt.cm.PuBu, linecolor=\"white\", annot=True, annot_kws={\"size\": 16})"
   ]
  },
  {
   "attachments": {},
   "cell_type": "markdown",
   "metadata": {},
   "source": [
    "00 corrélation entre les variables du dataset"
   ]
  },
  {
   "attachments": {},
   "cell_type": "markdown",
   "metadata": {},
   "source": [
    "## 2. Pré-traitement"
   ]
  },
  {
   "cell_type": "code",
   "execution_count": 14,
   "metadata": {},
   "outputs": [],
   "source": [
    "# Instantiating the scalers\n",
    "MMS = MinMaxScaler()"
   ]
  },
  {
   "attachments": {},
   "cell_type": "markdown",
   "metadata": {},
   "source": [
    "### 2.1. Fonction réalisant le pré-traitement de notre dataset"
   ]
  },
  {
   "cell_type": "code",
   "execution_count": 29,
   "metadata": {},
   "outputs": [],
   "source": [
    "def processing_dummy(data: pd.DataFrame) -> pd.DataFrame:\n",
    "    ''' preprocessing d'un dataframe avec la méthode de dummification\n",
    "    '''\n",
    "    try:\n",
    "        data_dummy = pd.get_dummies(\n",
    "            data.drop(['uniqueid', 'bank_account'], axis=1))\n",
    "        # normalisation\n",
    "        scaler = MMS\n",
    "        data_dummy[data_dummy.columns] = scaler.fit_transform(data_dummy)\n",
    "        data_dummy['bank_account'] = data['bank_account']\n",
    "    except:\n",
    "        data_dummy = pd.get_dummies(data.drop(['uniqueid'], axis=1))\n",
    "        # normalisation\n",
    "        scaler = MMS\n",
    "        data_dummy[data_dummy.columns] = scaler.fit_transform(data_dummy)\n",
    "    try:\n",
    "        # la liste des colonnes discrètes\n",
    "        object_columns = list(\n",
    "            data_dummy.select_dtypes(include='object').columns)\n",
    "        # encodage des variables discrètes\n",
    "        encoder = OrdinalEncoder()\n",
    "        data_dummy[object_columns] = encoder.fit_transform(\n",
    "            data_dummy[object_columns])\n",
    "    except:\n",
    "        pass\n",
    "    return data_dummy\n",
    "\n",
    "\n",
    "train_dummy = processing_dummy(train_set)\n",
    "test_dummy = processing_dummy(test_set)\n"
   ]
  },
  {
   "cell_type": "code",
   "execution_count": 30,
   "metadata": {},
   "outputs": [
    {
     "data": {
      "text/html": [
       "<div>\n",
       "<style scoped>\n",
       "    .dataframe tbody tr th:only-of-type {\n",
       "        vertical-align: middle;\n",
       "    }\n",
       "\n",
       "    .dataframe tbody tr th {\n",
       "        vertical-align: top;\n",
       "    }\n",
       "\n",
       "    .dataframe thead th {\n",
       "        text-align: right;\n",
       "    }\n",
       "</style>\n",
       "<table border=\"1\" class=\"dataframe\">\n",
       "  <thead>\n",
       "    <tr style=\"text-align: right;\">\n",
       "      <th></th>\n",
       "      <th>year</th>\n",
       "      <th>household_size</th>\n",
       "      <th>age_of_respondent</th>\n",
       "      <th>country_Kenya</th>\n",
       "      <th>country_Rwanda</th>\n",
       "      <th>country_Tanzania</th>\n",
       "      <th>country_Uganda</th>\n",
       "      <th>location_type_Rural</th>\n",
       "      <th>location_type_Urban</th>\n",
       "      <th>cellphone_access_No</th>\n",
       "      <th>...</th>\n",
       "      <th>job_type_Dont Know/Refuse to answer</th>\n",
       "      <th>job_type_Farming and Fishing</th>\n",
       "      <th>job_type_Formally employed Government</th>\n",
       "      <th>job_type_Formally employed Private</th>\n",
       "      <th>job_type_Government Dependent</th>\n",
       "      <th>job_type_Informally employed</th>\n",
       "      <th>job_type_No Income</th>\n",
       "      <th>job_type_Other Income</th>\n",
       "      <th>job_type_Remittance Dependent</th>\n",
       "      <th>job_type_Self employed</th>\n",
       "    </tr>\n",
       "  </thead>\n",
       "  <tbody>\n",
       "    <tr>\n",
       "      <th>0</th>\n",
       "      <td>1.0</td>\n",
       "      <td>0.105263</td>\n",
       "      <td>0.166667</td>\n",
       "      <td>1.0</td>\n",
       "      <td>0.0</td>\n",
       "      <td>0.0</td>\n",
       "      <td>0.0</td>\n",
       "      <td>0.0</td>\n",
       "      <td>1.0</td>\n",
       "      <td>0.0</td>\n",
       "      <td>...</td>\n",
       "      <td>0.0</td>\n",
       "      <td>0.0</td>\n",
       "      <td>1.0</td>\n",
       "      <td>0.0</td>\n",
       "      <td>0.0</td>\n",
       "      <td>0.0</td>\n",
       "      <td>0.0</td>\n",
       "      <td>0.0</td>\n",
       "      <td>0.0</td>\n",
       "      <td>0.0</td>\n",
       "    </tr>\n",
       "    <tr>\n",
       "      <th>1</th>\n",
       "      <td>1.0</td>\n",
       "      <td>0.315789</td>\n",
       "      <td>0.416667</td>\n",
       "      <td>1.0</td>\n",
       "      <td>0.0</td>\n",
       "      <td>0.0</td>\n",
       "      <td>0.0</td>\n",
       "      <td>0.0</td>\n",
       "      <td>1.0</td>\n",
       "      <td>0.0</td>\n",
       "      <td>...</td>\n",
       "      <td>0.0</td>\n",
       "      <td>0.0</td>\n",
       "      <td>0.0</td>\n",
       "      <td>1.0</td>\n",
       "      <td>0.0</td>\n",
       "      <td>0.0</td>\n",
       "      <td>0.0</td>\n",
       "      <td>0.0</td>\n",
       "      <td>0.0</td>\n",
       "      <td>0.0</td>\n",
       "    </tr>\n",
       "    <tr>\n",
       "      <th>2</th>\n",
       "      <td>1.0</td>\n",
       "      <td>0.105263</td>\n",
       "      <td>0.726190</td>\n",
       "      <td>1.0</td>\n",
       "      <td>0.0</td>\n",
       "      <td>0.0</td>\n",
       "      <td>0.0</td>\n",
       "      <td>1.0</td>\n",
       "      <td>0.0</td>\n",
       "      <td>1.0</td>\n",
       "      <td>...</td>\n",
       "      <td>0.0</td>\n",
       "      <td>0.0</td>\n",
       "      <td>0.0</td>\n",
       "      <td>0.0</td>\n",
       "      <td>0.0</td>\n",
       "      <td>0.0</td>\n",
       "      <td>0.0</td>\n",
       "      <td>0.0</td>\n",
       "      <td>1.0</td>\n",
       "      <td>0.0</td>\n",
       "    </tr>\n",
       "    <tr>\n",
       "      <th>3</th>\n",
       "      <td>1.0</td>\n",
       "      <td>0.263158</td>\n",
       "      <td>0.273810</td>\n",
       "      <td>1.0</td>\n",
       "      <td>0.0</td>\n",
       "      <td>0.0</td>\n",
       "      <td>0.0</td>\n",
       "      <td>1.0</td>\n",
       "      <td>0.0</td>\n",
       "      <td>1.0</td>\n",
       "      <td>...</td>\n",
       "      <td>0.0</td>\n",
       "      <td>0.0</td>\n",
       "      <td>0.0</td>\n",
       "      <td>0.0</td>\n",
       "      <td>0.0</td>\n",
       "      <td>0.0</td>\n",
       "      <td>0.0</td>\n",
       "      <td>0.0</td>\n",
       "      <td>1.0</td>\n",
       "      <td>0.0</td>\n",
       "    </tr>\n",
       "    <tr>\n",
       "      <th>4</th>\n",
       "      <td>1.0</td>\n",
       "      <td>0.105263</td>\n",
       "      <td>0.000000</td>\n",
       "      <td>1.0</td>\n",
       "      <td>0.0</td>\n",
       "      <td>0.0</td>\n",
       "      <td>0.0</td>\n",
       "      <td>0.0</td>\n",
       "      <td>1.0</td>\n",
       "      <td>1.0</td>\n",
       "      <td>...</td>\n",
       "      <td>0.0</td>\n",
       "      <td>0.0</td>\n",
       "      <td>0.0</td>\n",
       "      <td>0.0</td>\n",
       "      <td>0.0</td>\n",
       "      <td>0.0</td>\n",
       "      <td>0.0</td>\n",
       "      <td>0.0</td>\n",
       "      <td>1.0</td>\n",
       "      <td>0.0</td>\n",
       "    </tr>\n",
       "  </tbody>\n",
       "</table>\n",
       "<p>5 rows × 40 columns</p>\n",
       "</div>"
      ],
      "text/plain": [
       "   year  household_size  age_of_respondent  country_Kenya  country_Rwanda  \\\n",
       "0   1.0        0.105263           0.166667            1.0             0.0   \n",
       "1   1.0        0.315789           0.416667            1.0             0.0   \n",
       "2   1.0        0.105263           0.726190            1.0             0.0   \n",
       "3   1.0        0.263158           0.273810            1.0             0.0   \n",
       "4   1.0        0.105263           0.000000            1.0             0.0   \n",
       "\n",
       "   country_Tanzania  country_Uganda  location_type_Rural  location_type_Urban  \\\n",
       "0               0.0             0.0                  0.0                  1.0   \n",
       "1               0.0             0.0                  0.0                  1.0   \n",
       "2               0.0             0.0                  1.0                  0.0   \n",
       "3               0.0             0.0                  1.0                  0.0   \n",
       "4               0.0             0.0                  0.0                  1.0   \n",
       "\n",
       "   cellphone_access_No  ...  job_type_Dont Know/Refuse to answer  \\\n",
       "0                  0.0  ...                                  0.0   \n",
       "1                  0.0  ...                                  0.0   \n",
       "2                  1.0  ...                                  0.0   \n",
       "3                  1.0  ...                                  0.0   \n",
       "4                  1.0  ...                                  0.0   \n",
       "\n",
       "   job_type_Farming and Fishing  job_type_Formally employed Government  \\\n",
       "0                           0.0                                    1.0   \n",
       "1                           0.0                                    0.0   \n",
       "2                           0.0                                    0.0   \n",
       "3                           0.0                                    0.0   \n",
       "4                           0.0                                    0.0   \n",
       "\n",
       "   job_type_Formally employed Private  job_type_Government Dependent  \\\n",
       "0                                 0.0                            0.0   \n",
       "1                                 1.0                            0.0   \n",
       "2                                 0.0                            0.0   \n",
       "3                                 0.0                            0.0   \n",
       "4                                 0.0                            0.0   \n",
       "\n",
       "   job_type_Informally employed  job_type_No Income  job_type_Other Income  \\\n",
       "0                           0.0                 0.0                    0.0   \n",
       "1                           0.0                 0.0                    0.0   \n",
       "2                           0.0                 0.0                    0.0   \n",
       "3                           0.0                 0.0                    0.0   \n",
       "4                           0.0                 0.0                    0.0   \n",
       "\n",
       "   job_type_Remittance Dependent  job_type_Self employed  \n",
       "0                            0.0                     0.0  \n",
       "1                            0.0                     0.0  \n",
       "2                            1.0                     0.0  \n",
       "3                            1.0                     0.0  \n",
       "4                            1.0                     0.0  \n",
       "\n",
       "[5 rows x 40 columns]"
      ]
     },
     "execution_count": 30,
     "metadata": {},
     "output_type": "execute_result"
    }
   ],
   "source": [
    "test_dummy.head()"
   ]
  },
  {
   "attachments": {},
   "cell_type": "markdown",
   "metadata": {},
   "source": [
    "### 2.2. Splitting pour l'entrainement"
   ]
  },
  {
   "cell_type": "code",
   "execution_count": 31,
   "metadata": {},
   "outputs": [
    {
     "data": {
      "text/html": [
       "<div>\n",
       "<style scoped>\n",
       "    .dataframe tbody tr th:only-of-type {\n",
       "        vertical-align: middle;\n",
       "    }\n",
       "\n",
       "    .dataframe tbody tr th {\n",
       "        vertical-align: top;\n",
       "    }\n",
       "\n",
       "    .dataframe thead th {\n",
       "        text-align: right;\n",
       "    }\n",
       "</style>\n",
       "<table border=\"1\" class=\"dataframe\">\n",
       "  <thead>\n",
       "    <tr style=\"text-align: right;\">\n",
       "      <th></th>\n",
       "      <th>year</th>\n",
       "      <th>household_size</th>\n",
       "      <th>age_of_respondent</th>\n",
       "      <th>country_Kenya</th>\n",
       "      <th>country_Rwanda</th>\n",
       "      <th>country_Tanzania</th>\n",
       "      <th>country_Uganda</th>\n",
       "      <th>location_type_Rural</th>\n",
       "      <th>location_type_Urban</th>\n",
       "      <th>cellphone_access_No</th>\n",
       "      <th>...</th>\n",
       "      <th>job_type_Dont Know/Refuse to answer</th>\n",
       "      <th>job_type_Farming and Fishing</th>\n",
       "      <th>job_type_Formally employed Government</th>\n",
       "      <th>job_type_Formally employed Private</th>\n",
       "      <th>job_type_Government Dependent</th>\n",
       "      <th>job_type_Informally employed</th>\n",
       "      <th>job_type_No Income</th>\n",
       "      <th>job_type_Other Income</th>\n",
       "      <th>job_type_Remittance Dependent</th>\n",
       "      <th>job_type_Self employed</th>\n",
       "    </tr>\n",
       "  </thead>\n",
       "  <tbody>\n",
       "    <tr>\n",
       "      <th>0</th>\n",
       "      <td>1.0</td>\n",
       "      <td>0.10</td>\n",
       "      <td>0.095238</td>\n",
       "      <td>1.0</td>\n",
       "      <td>0.0</td>\n",
       "      <td>0.0</td>\n",
       "      <td>0.0</td>\n",
       "      <td>1.0</td>\n",
       "      <td>0.0</td>\n",
       "      <td>0.0</td>\n",
       "      <td>...</td>\n",
       "      <td>0.0</td>\n",
       "      <td>0.0</td>\n",
       "      <td>0.0</td>\n",
       "      <td>0.0</td>\n",
       "      <td>0.0</td>\n",
       "      <td>0.0</td>\n",
       "      <td>0.0</td>\n",
       "      <td>0.0</td>\n",
       "      <td>0.0</td>\n",
       "      <td>1.0</td>\n",
       "    </tr>\n",
       "    <tr>\n",
       "      <th>1</th>\n",
       "      <td>1.0</td>\n",
       "      <td>0.20</td>\n",
       "      <td>0.642857</td>\n",
       "      <td>1.0</td>\n",
       "      <td>0.0</td>\n",
       "      <td>0.0</td>\n",
       "      <td>0.0</td>\n",
       "      <td>1.0</td>\n",
       "      <td>0.0</td>\n",
       "      <td>1.0</td>\n",
       "      <td>...</td>\n",
       "      <td>0.0</td>\n",
       "      <td>0.0</td>\n",
       "      <td>0.0</td>\n",
       "      <td>0.0</td>\n",
       "      <td>1.0</td>\n",
       "      <td>0.0</td>\n",
       "      <td>0.0</td>\n",
       "      <td>0.0</td>\n",
       "      <td>0.0</td>\n",
       "      <td>0.0</td>\n",
       "    </tr>\n",
       "    <tr>\n",
       "      <th>2</th>\n",
       "      <td>1.0</td>\n",
       "      <td>0.20</td>\n",
       "      <td>0.119048</td>\n",
       "      <td>1.0</td>\n",
       "      <td>0.0</td>\n",
       "      <td>0.0</td>\n",
       "      <td>0.0</td>\n",
       "      <td>0.0</td>\n",
       "      <td>1.0</td>\n",
       "      <td>0.0</td>\n",
       "      <td>...</td>\n",
       "      <td>0.0</td>\n",
       "      <td>0.0</td>\n",
       "      <td>0.0</td>\n",
       "      <td>0.0</td>\n",
       "      <td>0.0</td>\n",
       "      <td>0.0</td>\n",
       "      <td>0.0</td>\n",
       "      <td>0.0</td>\n",
       "      <td>0.0</td>\n",
       "      <td>1.0</td>\n",
       "    </tr>\n",
       "    <tr>\n",
       "      <th>3</th>\n",
       "      <td>1.0</td>\n",
       "      <td>0.20</td>\n",
       "      <td>0.214286</td>\n",
       "      <td>1.0</td>\n",
       "      <td>0.0</td>\n",
       "      <td>0.0</td>\n",
       "      <td>0.0</td>\n",
       "      <td>1.0</td>\n",
       "      <td>0.0</td>\n",
       "      <td>0.0</td>\n",
       "      <td>...</td>\n",
       "      <td>0.0</td>\n",
       "      <td>0.0</td>\n",
       "      <td>0.0</td>\n",
       "      <td>1.0</td>\n",
       "      <td>0.0</td>\n",
       "      <td>0.0</td>\n",
       "      <td>0.0</td>\n",
       "      <td>0.0</td>\n",
       "      <td>0.0</td>\n",
       "      <td>0.0</td>\n",
       "    </tr>\n",
       "    <tr>\n",
       "      <th>4</th>\n",
       "      <td>1.0</td>\n",
       "      <td>0.35</td>\n",
       "      <td>0.119048</td>\n",
       "      <td>1.0</td>\n",
       "      <td>0.0</td>\n",
       "      <td>0.0</td>\n",
       "      <td>0.0</td>\n",
       "      <td>0.0</td>\n",
       "      <td>1.0</td>\n",
       "      <td>1.0</td>\n",
       "      <td>...</td>\n",
       "      <td>0.0</td>\n",
       "      <td>0.0</td>\n",
       "      <td>0.0</td>\n",
       "      <td>0.0</td>\n",
       "      <td>0.0</td>\n",
       "      <td>1.0</td>\n",
       "      <td>0.0</td>\n",
       "      <td>0.0</td>\n",
       "      <td>0.0</td>\n",
       "      <td>0.0</td>\n",
       "    </tr>\n",
       "  </tbody>\n",
       "</table>\n",
       "<p>5 rows × 40 columns</p>\n",
       "</div>"
      ],
      "text/plain": [
       "   year  household_size  age_of_respondent  country_Kenya  country_Rwanda  \\\n",
       "0   1.0            0.10           0.095238            1.0             0.0   \n",
       "1   1.0            0.20           0.642857            1.0             0.0   \n",
       "2   1.0            0.20           0.119048            1.0             0.0   \n",
       "3   1.0            0.20           0.214286            1.0             0.0   \n",
       "4   1.0            0.35           0.119048            1.0             0.0   \n",
       "\n",
       "   country_Tanzania  country_Uganda  location_type_Rural  location_type_Urban  \\\n",
       "0               0.0             0.0                  1.0                  0.0   \n",
       "1               0.0             0.0                  1.0                  0.0   \n",
       "2               0.0             0.0                  0.0                  1.0   \n",
       "3               0.0             0.0                  1.0                  0.0   \n",
       "4               0.0             0.0                  0.0                  1.0   \n",
       "\n",
       "   cellphone_access_No  ...  job_type_Dont Know/Refuse to answer  \\\n",
       "0                  0.0  ...                                  0.0   \n",
       "1                  1.0  ...                                  0.0   \n",
       "2                  0.0  ...                                  0.0   \n",
       "3                  0.0  ...                                  0.0   \n",
       "4                  1.0  ...                                  0.0   \n",
       "\n",
       "   job_type_Farming and Fishing  job_type_Formally employed Government  \\\n",
       "0                           0.0                                    0.0   \n",
       "1                           0.0                                    0.0   \n",
       "2                           0.0                                    0.0   \n",
       "3                           0.0                                    0.0   \n",
       "4                           0.0                                    0.0   \n",
       "\n",
       "   job_type_Formally employed Private  job_type_Government Dependent  \\\n",
       "0                                 0.0                            0.0   \n",
       "1                                 0.0                            1.0   \n",
       "2                                 0.0                            0.0   \n",
       "3                                 1.0                            0.0   \n",
       "4                                 0.0                            0.0   \n",
       "\n",
       "   job_type_Informally employed  job_type_No Income  job_type_Other Income  \\\n",
       "0                           0.0                 0.0                    0.0   \n",
       "1                           0.0                 0.0                    0.0   \n",
       "2                           0.0                 0.0                    0.0   \n",
       "3                           0.0                 0.0                    0.0   \n",
       "4                           1.0                 0.0                    0.0   \n",
       "\n",
       "   job_type_Remittance Dependent  job_type_Self employed  \n",
       "0                            0.0                     1.0  \n",
       "1                            0.0                     0.0  \n",
       "2                            0.0                     1.0  \n",
       "3                            0.0                     0.0  \n",
       "4                            0.0                     0.0  \n",
       "\n",
       "[5 rows x 40 columns]"
      ]
     },
     "execution_count": 31,
     "metadata": {},
     "output_type": "execute_result"
    }
   ],
   "source": [
    "X_train_dummy = train_dummy.drop(['bank_account'], axis=1)\n",
    "y_train_dummy = train_dummy['bank_account']\n",
    "X_train_dummy.head()"
   ]
  },
  {
   "attachments": {},
   "cell_type": "markdown",
   "metadata": {},
   "source": [
    "Séparation des features et de la target"
   ]
  },
  {
   "cell_type": "code",
   "execution_count": 32,
   "metadata": {},
   "outputs": [],
   "source": [
    "X_Train_dummy, X_Val_dummy, y_Train_dummy, y_Val_dummy = train_test_split(X_train_dummy, y_train_dummy, test_size = 0.1, random_state=12)"
   ]
  },
  {
   "attachments": {},
   "cell_type": "markdown",
   "metadata": {},
   "source": [
    "## 3. Modélisation"
   ]
  },
  {
   "attachments": {},
   "cell_type": "markdown",
   "metadata": {},
   "source": [
    "### 3.1. Entrainement et score"
   ]
  },
  {
   "cell_type": "code",
   "execution_count": 66,
   "metadata": {},
   "outputs": [
    {
     "name": "stdout",
     "output_type": "stream",
     "text": [
      "0:\tlearn: 0.6007609\ttest: 0.6000447\tbest: 0.6000447 (0)\ttotal: 10.4ms\tremaining: 31.2s\n",
      "50:\tlearn: 0.2743848\ttest: 0.2612727\tbest: 0.2612727 (50)\ttotal: 458ms\tremaining: 26.5s\n",
      "100:\tlearn: 0.2647134\ttest: 0.2582489\tbest: 0.2582489 (100)\ttotal: 911ms\tremaining: 26.2s\n",
      "150:\tlearn: 0.2566342\ttest: 0.2584554\tbest: 0.2580459 (140)\ttotal: 1.41s\tremaining: 26.5s\n",
      "200:\tlearn: 0.2500581\ttest: 0.2609648\tbest: 0.2580459 (140)\ttotal: 1.92s\tremaining: 26.7s\n",
      "250:\tlearn: 0.2442592\ttest: 0.2625673\tbest: 0.2580459 (140)\ttotal: 2.41s\tremaining: 26.4s\n",
      "300:\tlearn: 0.2389451\ttest: 0.2645173\tbest: 0.2580459 (140)\ttotal: 3.01s\tremaining: 27s\n",
      "Stopped by overfitting detector  (200 iterations wait)\n",
      "\n",
      "bestTest = 0.2580458571\n",
      "bestIteration = 140\n",
      "\n",
      "Shrink model to first 141 iterations.\n",
      "Taux d'erreur du <catboost.core.CatBoostClassifier object at 0x000002514C1DFA60> : 0.10412239694007652\n"
     ]
    }
   ],
   "source": [
    "params = {\n",
    "    'n_estimators': 3000,\n",
    "    'learning_rate': 0.1,\n",
    "    'objective': 'Logloss',\n",
    "    'rsm': 0.7,\n",
    "    'random_seed': SEED,\n",
    "    'early_stopping_rounds': 200,\n",
    "    'use_best_model': True,\n",
    "}\n",
    "\n",
    "model_dummy = CatBoostClassifier(**params)\n",
    "model_dummy.fit(X_Train_dummy, y_Train_dummy, eval_set=[\n",
    "                (X_Val_dummy, y_Val_dummy)], verbose=50)\n",
    "\n",
    "y_model_dummy = model_dummy.predict(X_Val_dummy)\n",
    "metrique = 1 - accuracy_score(y_Val_dummy, y_model_dummy)\n",
    "print(f\"Taux d'erreur du {str(model_dummy)} : {metrique}\")"
   ]
  },
  {
   "attachments": {},
   "cell_type": "markdown",
   "metadata": {},
   "source": [
    "### 3.2. Matrice de confusion"
   ]
  },
  {
   "cell_type": "code",
   "execution_count": 71,
   "metadata": {},
   "outputs": [
    {
     "data": {
      "text/plain": [
       "<sklearn.metrics._plot.confusion_matrix.ConfusionMatrixDisplay at 0x2515055ab30>"
      ]
     },
     "execution_count": 71,
     "metadata": {},
     "output_type": "execute_result"
    },
    {
     "data": {
      "image/png": "[encoded data removed]",
      "text/plain": [
       "<Figure size 640x480 with 2 Axes>"
      ]
     },
     "metadata": {},
     "output_type": "display_data"
    }
   ],
   "source": [
    "ConfusionMatrixDisplay.from_estimator(model_dummy, X_Val_dummy, y_Val_dummy, normalize='true')"
   ]
  },
  {
   "attachments": {},
   "cell_type": "markdown",
   "metadata": {},
   "source": [
    "Cette matrice montre que notre modèle reconnaît mieux les vrais négatifs (l'individu n'a pas de compte bancaire) par rapport aux vrais positifs (l'individu a un compte bancaire). Cela était prévisible car il y a 6 fois plus de négatifs que de positifs dans le dataset."
   ]
  },
  {
   "attachments": {},
   "cell_type": "markdown",
   "metadata": {},
   "source": [
    "## 4. Prédiction"
   ]
  },
  {
   "attachments": {},
   "cell_type": "markdown",
   "metadata": {},
   "source": [
    "Après avoir choisi un modèle, réalisons maintenant les prédictions sur notre ensemble de test."
   ]
  },
  {
   "cell_type": "code",
   "execution_count": null,
   "metadata": {},
   "outputs": [],
   "source": [
    "try:\n",
    "\ttest_dummy.drop(['bank_account'], axis=1, inplace=True)\n",
    "except:\n",
    "\tpass"
   ]
  },
  {
   "cell_type": "code",
   "execution_count": null,
   "metadata": {},
   "outputs": [
    {
     "data": {
      "text/html": [
       "<div>\n",
       "<style scoped>\n",
       "    .dataframe tbody tr th:only-of-type {\n",
       "        vertical-align: middle;\n",
       "    }\n",
       "\n",
       "    .dataframe tbody tr th {\n",
       "        vertical-align: top;\n",
       "    }\n",
       "\n",
       "    .dataframe thead th {\n",
       "        text-align: right;\n",
       "    }\n",
       "</style>\n",
       "<table border=\"1\" class=\"dataframe\">\n",
       "  <thead>\n",
       "    <tr style=\"text-align: right;\">\n",
       "      <th></th>\n",
       "      <th>country</th>\n",
       "      <th>year</th>\n",
       "      <th>uniqueid</th>\n",
       "      <th>location_type</th>\n",
       "      <th>cellphone_access</th>\n",
       "      <th>household_size</th>\n",
       "      <th>age_of_respondent</th>\n",
       "      <th>gender_of_respondent</th>\n",
       "      <th>relationship_with_head</th>\n",
       "      <th>marital_status</th>\n",
       "      <th>education_level</th>\n",
       "      <th>job_type</th>\n",
       "      <th>bank_account</th>\n",
       "    </tr>\n",
       "  </thead>\n",
       "  <tbody>\n",
       "    <tr>\n",
       "      <th>0</th>\n",
       "      <td>Kenya</td>\n",
       "      <td>2018</td>\n",
       "      <td>uniqueid_6056</td>\n",
       "      <td>Urban</td>\n",
       "      <td>Yes</td>\n",
       "      <td>3</td>\n",
       "      <td>30</td>\n",
       "      <td>Male</td>\n",
       "      <td>Head of Household</td>\n",
       "      <td>Married/Living together</td>\n",
       "      <td>Secondary education</td>\n",
       "      <td>Formally employed Government</td>\n",
       "      <td>1.0</td>\n",
       "    </tr>\n",
       "    <tr>\n",
       "      <th>1</th>\n",
       "      <td>Kenya</td>\n",
       "      <td>2018</td>\n",
       "      <td>uniqueid_6060</td>\n",
       "      <td>Urban</td>\n",
       "      <td>Yes</td>\n",
       "      <td>7</td>\n",
       "      <td>51</td>\n",
       "      <td>Male</td>\n",
       "      <td>Head of Household</td>\n",
       "      <td>Married/Living together</td>\n",
       "      <td>Vocational/Specialised training</td>\n",
       "      <td>Formally employed Private</td>\n",
       "      <td>1.0</td>\n",
       "    </tr>\n",
       "    <tr>\n",
       "      <th>2</th>\n",
       "      <td>Kenya</td>\n",
       "      <td>2018</td>\n",
       "      <td>uniqueid_6065</td>\n",
       "      <td>Rural</td>\n",
       "      <td>No</td>\n",
       "      <td>3</td>\n",
       "      <td>77</td>\n",
       "      <td>Female</td>\n",
       "      <td>Parent</td>\n",
       "      <td>Married/Living together</td>\n",
       "      <td>No formal education</td>\n",
       "      <td>Remittance Dependent</td>\n",
       "      <td>0.0</td>\n",
       "    </tr>\n",
       "    <tr>\n",
       "      <th>3</th>\n",
       "      <td>Kenya</td>\n",
       "      <td>2018</td>\n",
       "      <td>uniqueid_6072</td>\n",
       "      <td>Rural</td>\n",
       "      <td>No</td>\n",
       "      <td>6</td>\n",
       "      <td>39</td>\n",
       "      <td>Female</td>\n",
       "      <td>Head of Household</td>\n",
       "      <td>Married/Living together</td>\n",
       "      <td>Primary education</td>\n",
       "      <td>Remittance Dependent</td>\n",
       "      <td>0.0</td>\n",
       "    </tr>\n",
       "    <tr>\n",
       "      <th>4</th>\n",
       "      <td>Kenya</td>\n",
       "      <td>2018</td>\n",
       "      <td>uniqueid_6073</td>\n",
       "      <td>Urban</td>\n",
       "      <td>No</td>\n",
       "      <td>3</td>\n",
       "      <td>16</td>\n",
       "      <td>Male</td>\n",
       "      <td>Child</td>\n",
       "      <td>Single/Never Married</td>\n",
       "      <td>Secondary education</td>\n",
       "      <td>Remittance Dependent</td>\n",
       "      <td>0.0</td>\n",
       "    </tr>\n",
       "  </tbody>\n",
       "</table>\n",
       "</div>"
      ],
      "text/plain": [
       "  country  year       uniqueid location_type cellphone_access  household_size  \\\n",
       "0   Kenya  2018  uniqueid_6056         Urban              Yes               3   \n",
       "1   Kenya  2018  uniqueid_6060         Urban              Yes               7   \n",
       "2   Kenya  2018  uniqueid_6065         Rural               No               3   \n",
       "3   Kenya  2018  uniqueid_6072         Rural               No               6   \n",
       "4   Kenya  2018  uniqueid_6073         Urban               No               3   \n",
       "\n",
       "   age_of_respondent gender_of_respondent relationship_with_head  \\\n",
       "0                 30                 Male      Head of Household   \n",
       "1                 51                 Male      Head of Household   \n",
       "2                 77               Female                 Parent   \n",
       "3                 39               Female      Head of Household   \n",
       "4                 16                 Male                  Child   \n",
       "\n",
       "            marital_status                  education_level  \\\n",
       "0  Married/Living together              Secondary education   \n",
       "1  Married/Living together  Vocational/Specialised training   \n",
       "2  Married/Living together              No formal education   \n",
       "3  Married/Living together                Primary education   \n",
       "4     Single/Never Married              Secondary education   \n",
       "\n",
       "                       job_type  bank_account  \n",
       "0  Formally employed Government           1.0  \n",
       "1     Formally employed Private           1.0  \n",
       "2          Remittance Dependent           0.0  \n",
       "3          Remittance Dependent           0.0  \n",
       "4          Remittance Dependent           0.0  "
      ]
     },
     "metadata": {},
     "output_type": "display_data"
    }
   ],
   "source": [
    "test_set['bank_account'] = model_dummy.predict(test_dummy)\n",
    "test_set.head(5)"
   ]
  },
  {
   "attachments": {},
   "cell_type": "markdown",
   "metadata": {},
   "source": [
    "## 5. Soumission"
   ]
  },
  {
   "attachments": {},
   "cell_type": "markdown",
   "metadata": {},
   "source": [
    "Visualisation du fichier d'exemple de soumission"
   ]
  },
  {
   "cell_type": "code",
   "execution_count": null,
   "metadata": {},
   "outputs": [],
   "source": [
    "sample_submission.head()"
   ]
  },
  {
   "attachments": {},
   "cell_type": "markdown",
   "metadata": {},
   "source": [
    "Création de notre fichier de soumission"
   ]
  },
  {
   "cell_type": "code",
   "execution_count": 109,
   "metadata": {},
   "outputs": [],
   "source": [
    "soumissions = pd.DataFrame(\n",
    "    {\"unique_id\": test_set[\"uniqueid\"] + \" x \" + test_set[\"country\"], \"bank_account\": test_set['bank_account'].astype(int)})\n",
    "soumissions.to_csv(\n",
    "    f'submissions/soumission_{dt.now().strftime(format=\"%Y-%m-%d_%Hh%M\")}.csv', index=False)\n",
    "soumissions"
   ]
  },
  {
   "attachments": {},
   "cell_type": "markdown",
   "metadata": {},
   "source": [
    "## 6. Sauvegarde du modèle"
   ]
  },
  {
   "cell_type": "code",
   "execution_count": 43,
   "metadata": {},
   "outputs": [
    {
     "data": {
      "text/plain": [
       "['models/catboost_dummy_0.108665476.pkl']"
      ]
     },
     "execution_count": 43,
     "metadata": {},
     "output_type": "execute_result"
    }
   ],
   "source": [
    "# Save the model as a pickle in a file\n",
    "# joblib.dump(model_dummy, 'models/catboost_dummy_0.108665476.pkl')"
   ]
  }
 ],
 "metadata": {
  "kernelspec": {
   "display_name": "Python 3",
   "language": "python",
   "name": "python3"
  },
  "language_info": {
   "codemirror_mode": {
    "name": "ipython",
    "version": 3
   },
   "file_extension": ".py",
   "mimetype": "text/x-python",
   "name": "python",
   "nbconvert_exporter": "python",
   "pygments_lexer": "ipython3",
   "version": "3.10.10"
  },
  "orig_nbformat": 4,
  "vscode": {
   "interpreter": {
    "hash": "984f0d32ec04950e2fefa43e7d38885b8e5f7ace114fa5bde7896afdbe1d6c9f"
   }
  }
 },
 "nbformat": 4,
 "nbformat_minor": 2
}
