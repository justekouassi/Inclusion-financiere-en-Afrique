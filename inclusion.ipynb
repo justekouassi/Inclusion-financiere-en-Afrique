{
 "cells": [
  {
   "attachments": {},
   "cell_type": "markdown",
   "metadata": {},
   "source": [
    "# Inclusion financière en Afrique"
   ]
  },
  {
   "attachments": {},
   "cell_type": "markdown",
   "metadata": {},
   "source": [
    "## 0. Préalable"
   ]
  },
  {
   "attachments": {},
   "cell_type": "markdown",
   "metadata": {},
   "source": [
    "### Importation des modules"
   ]
  },
  {
   "cell_type": "code",
   "execution_count": 41,
   "metadata": {},
   "outputs": [],
   "source": [
    "# numerical calculation\n",
    "import numpy as np\n",
    "# dataframe\n",
    "import pandas as pd\n",
    "# vizualisation\n",
    "import matplotlib.pyplot as plt\n",
    "import seaborn as sns\n",
    "# models\n",
    "from sklearn.ensemble import GradientBoostingClassifier\n",
    "from xgboost import XGBClassifier\n",
    "from lightgbm import LGBMClassifier\n",
    "from catboost import CatBoostClassifier\n",
    "# tuning\n",
    "from sklearn.model_selection import train_test_split\n",
    "from sklearn.model_selection import GridSearchCV\n",
    "from sklearn.model_selection import StratifiedKFold, KFold\n",
    "# encoding\n",
    "from sklearn.preprocessing import LabelEncoder, OrdinalEncoder\n",
    "# scaling\n",
    "from sklearn.preprocessing import MinMaxScaler, StandardScaler, RobustScaler, MaxAbsScaler\n",
    "# metrics\n",
    "from sklearn.metrics import accuracy_score\n",
    "from sklearn.metrics import ConfusionMatrixDisplay\n",
    "\n",
    "import random\n",
    "from datetime import datetime as dt"
   ]
  },
  {
   "attachments": {},
   "cell_type": "markdown",
   "metadata": {},
   "source": [
    "### Chargement du jeu de données"
   ]
  },
  {
   "cell_type": "code",
   "execution_count": 3,
   "metadata": {},
   "outputs": [],
   "source": [
    "DATA_PATH = 'data/' # repertoire des données\n",
    "train_set = pd.read_csv(DATA_PATH + 'Train.csv') # ensemble d'apprentissage\n",
    "test_set = pd.read_csv(DATA_PATH + 'Test.csv') # ensemble de test"
   ]
  },
  {
   "cell_type": "code",
   "execution_count": 4,
   "metadata": {},
   "outputs": [
    {
     "data": {
      "text/html": [
       "<div>\n",
       "<style scoped>\n",
       "    .dataframe tbody tr th:only-of-type {\n",
       "        vertical-align: middle;\n",
       "    }\n",
       "\n",
       "    .dataframe tbody tr th {\n",
       "        vertical-align: top;\n",
       "    }\n",
       "\n",
       "    .dataframe thead th {\n",
       "        text-align: right;\n",
       "    }\n",
       "</style>\n",
       "<table border=\"1\" class=\"dataframe\">\n",
       "  <thead>\n",
       "    <tr style=\"text-align: right;\">\n",
       "      <th></th>\n",
       "      <th>country</th>\n",
       "      <th>year</th>\n",
       "      <th>uniqueid</th>\n",
       "      <th>bank_account</th>\n",
       "      <th>location_type</th>\n",
       "      <th>cellphone_access</th>\n",
       "      <th>household_size</th>\n",
       "      <th>age_of_respondent</th>\n",
       "      <th>gender_of_respondent</th>\n",
       "      <th>relationship_with_head</th>\n",
       "      <th>marital_status</th>\n",
       "      <th>education_level</th>\n",
       "      <th>job_type</th>\n",
       "    </tr>\n",
       "  </thead>\n",
       "  <tbody>\n",
       "    <tr>\n",
       "      <th>0</th>\n",
       "      <td>Kenya</td>\n",
       "      <td>2018</td>\n",
       "      <td>uniqueid_1</td>\n",
       "      <td>Yes</td>\n",
       "      <td>Rural</td>\n",
       "      <td>Yes</td>\n",
       "      <td>3</td>\n",
       "      <td>24</td>\n",
       "      <td>Female</td>\n",
       "      <td>Spouse</td>\n",
       "      <td>Married/Living together</td>\n",
       "      <td>Secondary education</td>\n",
       "      <td>Self employed</td>\n",
       "    </tr>\n",
       "    <tr>\n",
       "      <th>1</th>\n",
       "      <td>Kenya</td>\n",
       "      <td>2018</td>\n",
       "      <td>uniqueid_2</td>\n",
       "      <td>No</td>\n",
       "      <td>Rural</td>\n",
       "      <td>No</td>\n",
       "      <td>5</td>\n",
       "      <td>70</td>\n",
       "      <td>Female</td>\n",
       "      <td>Head of Household</td>\n",
       "      <td>Widowed</td>\n",
       "      <td>No formal education</td>\n",
       "      <td>Government Dependent</td>\n",
       "    </tr>\n",
       "    <tr>\n",
       "      <th>2</th>\n",
       "      <td>Kenya</td>\n",
       "      <td>2018</td>\n",
       "      <td>uniqueid_3</td>\n",
       "      <td>Yes</td>\n",
       "      <td>Urban</td>\n",
       "      <td>Yes</td>\n",
       "      <td>5</td>\n",
       "      <td>26</td>\n",
       "      <td>Male</td>\n",
       "      <td>Other relative</td>\n",
       "      <td>Single/Never Married</td>\n",
       "      <td>Vocational/Specialised training</td>\n",
       "      <td>Self employed</td>\n",
       "    </tr>\n",
       "    <tr>\n",
       "      <th>3</th>\n",
       "      <td>Kenya</td>\n",
       "      <td>2018</td>\n",
       "      <td>uniqueid_4</td>\n",
       "      <td>No</td>\n",
       "      <td>Rural</td>\n",
       "      <td>Yes</td>\n",
       "      <td>5</td>\n",
       "      <td>34</td>\n",
       "      <td>Female</td>\n",
       "      <td>Head of Household</td>\n",
       "      <td>Married/Living together</td>\n",
       "      <td>Primary education</td>\n",
       "      <td>Formally employed Private</td>\n",
       "    </tr>\n",
       "  </tbody>\n",
       "</table>\n",
       "</div>"
      ],
      "text/plain": [
       "  country  year    uniqueid bank_account location_type cellphone_access  \\\n",
       "0   Kenya  2018  uniqueid_1          Yes         Rural              Yes   \n",
       "1   Kenya  2018  uniqueid_2           No         Rural               No   \n",
       "2   Kenya  2018  uniqueid_3          Yes         Urban              Yes   \n",
       "3   Kenya  2018  uniqueid_4           No         Rural              Yes   \n",
       "\n",
       "   household_size  age_of_respondent gender_of_respondent  \\\n",
       "0               3                 24               Female   \n",
       "1               5                 70               Female   \n",
       "2               5                 26                 Male   \n",
       "3               5                 34               Female   \n",
       "\n",
       "  relationship_with_head           marital_status  \\\n",
       "0                 Spouse  Married/Living together   \n",
       "1      Head of Household                  Widowed   \n",
       "2         Other relative     Single/Never Married   \n",
       "3      Head of Household  Married/Living together   \n",
       "\n",
       "                   education_level                   job_type  \n",
       "0              Secondary education              Self employed  \n",
       "1              No formal education       Government Dependent  \n",
       "2  Vocational/Specialised training              Self employed  \n",
       "3                Primary education  Formally employed Private  "
      ]
     },
     "execution_count": 4,
     "metadata": {},
     "output_type": "execute_result"
    }
   ],
   "source": [
    "train_set.head(4)"
   ]
  },
  {
   "attachments": {},
   "cell_type": "markdown",
   "metadata": {},
   "source": [
    "## 1. Analyse exploratoire"
   ]
  },
  {
   "attachments": {},
   "cell_type": "markdown",
   "metadata": {},
   "source": [
    "### 1.1. Analyse de la forme"
   ]
  },
  {
   "attachments": {},
   "cell_type": "markdown",
   "metadata": {},
   "source": [
    "La target de notre dataset est la variable **bank_account**."
   ]
  },
  {
   "attachments": {},
   "cell_type": "markdown",
   "metadata": {},
   "source": [
    "Dimension du dataset"
   ]
  },
  {
   "cell_type": "code",
   "execution_count": 5,
   "metadata": {},
   "outputs": [
    {
     "name": "stdout",
     "output_type": "stream",
     "text": [
      "Dimension du train set : (23524, 13)\n",
      "Dimension du test set : (10086, 12)\n"
     ]
    }
   ],
   "source": [
    "# Let’s observe the shape of our datasets.\n",
    "print('Dimension du train set :', train_set.shape)\n",
    "print('Dimension du test set :', test_set.shape)"
   ]
  },
  {
   "attachments": {},
   "cell_type": "markdown",
   "metadata": {},
   "source": [
    "Types des variables"
   ]
  },
  {
   "cell_type": "code",
   "execution_count": 6,
   "metadata": {},
   "outputs": [
    {
     "name": "stdout",
     "output_type": "stream",
     "text": [
      "<class 'pandas.core.frame.DataFrame'>\n",
      "RangeIndex: 23524 entries, 0 to 23523\n",
      "Data columns (total 13 columns):\n",
      " #   Column                  Non-Null Count  Dtype \n",
      "---  ------                  --------------  ----- \n",
      " 0   country                 23524 non-null  object\n",
      " 1   year                    23524 non-null  int64 \n",
      " 2   uniqueid                23524 non-null  object\n",
      " 3   bank_account            23524 non-null  object\n",
      " 4   location_type           23524 non-null  object\n",
      " 5   cellphone_access        23524 non-null  object\n",
      " 6   household_size          23524 non-null  int64 \n",
      " 7   age_of_respondent       23524 non-null  int64 \n",
      " 8   gender_of_respondent    23524 non-null  object\n",
      " 9   relationship_with_head  23524 non-null  object\n",
      " 10  marital_status          23524 non-null  object\n",
      " 11  education_level         23524 non-null  object\n",
      " 12  job_type                23524 non-null  object\n",
      "dtypes: int64(3), object(10)\n",
      "memory usage: 2.3+ MB\n"
     ]
    }
   ],
   "source": [
    "train_set.info()"
   ]
  },
  {
   "attachments": {},
   "cell_type": "markdown",
   "metadata": {},
   "source": [
    "Analyse des variables qualitatives"
   ]
  },
  {
   "cell_type": "code",
   "execution_count": 7,
   "metadata": {},
   "outputs": [
    {
     "data": {
      "text/html": [
       "<div>\n",
       "<style scoped>\n",
       "    .dataframe tbody tr th:only-of-type {\n",
       "        vertical-align: middle;\n",
       "    }\n",
       "\n",
       "    .dataframe tbody tr th {\n",
       "        vertical-align: top;\n",
       "    }\n",
       "\n",
       "    .dataframe thead th {\n",
       "        text-align: right;\n",
       "    }\n",
       "</style>\n",
       "<table border=\"1\" class=\"dataframe\">\n",
       "  <thead>\n",
       "    <tr style=\"text-align: right;\">\n",
       "      <th></th>\n",
       "      <th>country</th>\n",
       "      <th>uniqueid</th>\n",
       "      <th>bank_account</th>\n",
       "      <th>location_type</th>\n",
       "      <th>cellphone_access</th>\n",
       "      <th>gender_of_respondent</th>\n",
       "      <th>relationship_with_head</th>\n",
       "      <th>marital_status</th>\n",
       "      <th>education_level</th>\n",
       "      <th>job_type</th>\n",
       "    </tr>\n",
       "  </thead>\n",
       "  <tbody>\n",
       "    <tr>\n",
       "      <th>count</th>\n",
       "      <td>23524</td>\n",
       "      <td>23524</td>\n",
       "      <td>23524</td>\n",
       "      <td>23524</td>\n",
       "      <td>23524</td>\n",
       "      <td>23524</td>\n",
       "      <td>23524</td>\n",
       "      <td>23524</td>\n",
       "      <td>23524</td>\n",
       "      <td>23524</td>\n",
       "    </tr>\n",
       "    <tr>\n",
       "      <th>unique</th>\n",
       "      <td>4</td>\n",
       "      <td>8735</td>\n",
       "      <td>2</td>\n",
       "      <td>2</td>\n",
       "      <td>2</td>\n",
       "      <td>2</td>\n",
       "      <td>6</td>\n",
       "      <td>5</td>\n",
       "      <td>6</td>\n",
       "      <td>10</td>\n",
       "    </tr>\n",
       "    <tr>\n",
       "      <th>top</th>\n",
       "      <td>Rwanda</td>\n",
       "      <td>uniqueid_1</td>\n",
       "      <td>No</td>\n",
       "      <td>Rural</td>\n",
       "      <td>Yes</td>\n",
       "      <td>Female</td>\n",
       "      <td>Head of Household</td>\n",
       "      <td>Married/Living together</td>\n",
       "      <td>Primary education</td>\n",
       "      <td>Self employed</td>\n",
       "    </tr>\n",
       "    <tr>\n",
       "      <th>freq</th>\n",
       "      <td>8735</td>\n",
       "      <td>4</td>\n",
       "      <td>20212</td>\n",
       "      <td>14343</td>\n",
       "      <td>17454</td>\n",
       "      <td>13877</td>\n",
       "      <td>12831</td>\n",
       "      <td>10749</td>\n",
       "      <td>12791</td>\n",
       "      <td>6437</td>\n",
       "    </tr>\n",
       "  </tbody>\n",
       "</table>\n",
       "</div>"
      ],
      "text/plain": [
       "       country    uniqueid bank_account location_type cellphone_access  \\\n",
       "count    23524       23524        23524         23524            23524   \n",
       "unique       4        8735            2             2                2   \n",
       "top     Rwanda  uniqueid_1           No         Rural              Yes   \n",
       "freq      8735           4        20212         14343            17454   \n",
       "\n",
       "       gender_of_respondent relationship_with_head           marital_status  \\\n",
       "count                 23524                  23524                    23524   \n",
       "unique                    2                      6                        5   \n",
       "top                  Female      Head of Household  Married/Living together   \n",
       "freq                  13877                  12831                    10749   \n",
       "\n",
       "          education_level       job_type  \n",
       "count               23524          23524  \n",
       "unique                  6             10  \n",
       "top     Primary education  Self employed  \n",
       "freq                12791           6437  "
      ]
     },
     "execution_count": 7,
     "metadata": {},
     "output_type": "execute_result"
    }
   ],
   "source": [
    "train_set.select_dtypes(include='object').describe()"
   ]
  },
  {
   "cell_type": "code",
   "execution_count": 8,
   "metadata": {},
   "outputs": [
    {
     "name": "stdout",
     "output_type": "stream",
     "text": [
      "country\n",
      "Rwanda      8735\n",
      "Tanzania    6620\n",
      "Kenya       6068\n",
      "Uganda      2101\n",
      "Name: country, dtype: int64 \n",
      "\n",
      "year\n",
      "2016    8735\n",
      "2018    8169\n",
      "2017    6620\n",
      "Name: year, dtype: int64 \n",
      "\n",
      "uniqueid\n",
      "uniqueid_1       4\n",
      "uniqueid_1413    4\n",
      "uniqueid_1411    4\n",
      "uniqueid_1410    4\n",
      "uniqueid_1409    4\n",
      "                ..\n",
      "uniqueid_7318    1\n",
      "uniqueid_7317    1\n",
      "uniqueid_7316    1\n",
      "uniqueid_7315    1\n",
      "uniqueid_8759    1\n",
      "Name: uniqueid, Length: 8735, dtype: int64 \n",
      "\n",
      "bank_account\n",
      "No     20212\n",
      "Yes     3312\n",
      "Name: bank_account, dtype: int64 \n",
      "\n",
      "location_type\n",
      "Rural    14343\n",
      "Urban     9181\n",
      "Name: location_type, dtype: int64 \n",
      "\n",
      "cellphone_access\n",
      "Yes    17454\n",
      "No      6070\n",
      "Name: cellphone_access, dtype: int64 \n",
      "\n",
      "household_size\n",
      "2     5229\n",
      "3     3920\n",
      "4     3474\n",
      "1     3057\n",
      "5     2853\n",
      "6     2096\n",
      "7     1400\n",
      "8      751\n",
      "9      363\n",
      "10     190\n",
      "11      69\n",
      "12      68\n",
      "13      25\n",
      "15      11\n",
      "14      10\n",
      "16       4\n",
      "21       1\n",
      "18       1\n",
      "17       1\n",
      "20       1\n",
      "Name: household_size, dtype: int64 \n",
      "\n",
      "age_of_respondent\n",
      "30     1056\n",
      "35      836\n",
      "25      792\n",
      "28      748\n",
      "32      715\n",
      "       ... \n",
      "100       5\n",
      "93        4\n",
      "96        3\n",
      "99        2\n",
      "97        1\n",
      "Name: age_of_respondent, Length: 85, dtype: int64 \n",
      "\n",
      "gender_of_respondent\n",
      "Female    13877\n",
      "Male       9647\n",
      "Name: gender_of_respondent, dtype: int64 \n",
      "\n",
      "relationship_with_head\n",
      "Head of Household      12831\n",
      "Spouse                  6520\n",
      "Child                   2229\n",
      "Parent                  1086\n",
      "Other relative           668\n",
      "Other non-relatives      190\n",
      "Name: relationship_with_head, dtype: int64 \n",
      "\n",
      "marital_status\n",
      "Married/Living together    10749\n",
      "Single/Never Married        7983\n",
      "Widowed                     2708\n",
      "Divorced/Seperated          2076\n",
      "Dont know                      8\n",
      "Name: marital_status, dtype: int64 \n",
      "\n",
      "education_level\n",
      "Primary education                  12791\n",
      "No formal education                 4515\n",
      "Secondary education                 4223\n",
      "Tertiary education                  1157\n",
      "Vocational/Specialised training      803\n",
      "Other/Dont know/RTA                   35\n",
      "Name: education_level, dtype: int64 \n",
      "\n",
      "job_type\n",
      "Self employed                   6437\n",
      "Informally employed             5597\n",
      "Farming and Fishing             5441\n",
      "Remittance Dependent            2527\n",
      "Other Income                    1080\n",
      "Formally employed Private       1055\n",
      "No Income                        627\n",
      "Formally employed Government     387\n",
      "Government Dependent             247\n",
      "Dont Know/Refuse to answer       126\n",
      "Name: job_type, dtype: int64 \n",
      "\n"
     ]
    }
   ],
   "source": [
    "for colonne in list(train_set.columns):\n",
    "    print(colonne)\n",
    "    print(train_set[colonne].value_counts(), '\\n')"
   ]
  },
  {
   "attachments": {},
   "cell_type": "markdown",
   "metadata": {},
   "source": [
    "Analyse des variables quantitatives"
   ]
  },
  {
   "cell_type": "code",
   "execution_count": 9,
   "metadata": {},
   "outputs": [
    {
     "data": {
      "text/html": [
       "<div>\n",
       "<style scoped>\n",
       "    .dataframe tbody tr th:only-of-type {\n",
       "        vertical-align: middle;\n",
       "    }\n",
       "\n",
       "    .dataframe tbody tr th {\n",
       "        vertical-align: top;\n",
       "    }\n",
       "\n",
       "    .dataframe thead th {\n",
       "        text-align: right;\n",
       "    }\n",
       "</style>\n",
       "<table border=\"1\" class=\"dataframe\">\n",
       "  <thead>\n",
       "    <tr style=\"text-align: right;\">\n",
       "      <th></th>\n",
       "      <th>year</th>\n",
       "      <th>household_size</th>\n",
       "      <th>age_of_respondent</th>\n",
       "    </tr>\n",
       "  </thead>\n",
       "  <tbody>\n",
       "    <tr>\n",
       "      <th>count</th>\n",
       "      <td>23524.000000</td>\n",
       "      <td>23524.000000</td>\n",
       "      <td>23524.000000</td>\n",
       "    </tr>\n",
       "    <tr>\n",
       "      <th>mean</th>\n",
       "      <td>2016.975939</td>\n",
       "      <td>3.797483</td>\n",
       "      <td>38.805220</td>\n",
       "    </tr>\n",
       "    <tr>\n",
       "      <th>std</th>\n",
       "      <td>0.847371</td>\n",
       "      <td>2.227613</td>\n",
       "      <td>16.520569</td>\n",
       "    </tr>\n",
       "    <tr>\n",
       "      <th>min</th>\n",
       "      <td>2016.000000</td>\n",
       "      <td>1.000000</td>\n",
       "      <td>16.000000</td>\n",
       "    </tr>\n",
       "    <tr>\n",
       "      <th>25%</th>\n",
       "      <td>2016.000000</td>\n",
       "      <td>2.000000</td>\n",
       "      <td>26.000000</td>\n",
       "    </tr>\n",
       "    <tr>\n",
       "      <th>50%</th>\n",
       "      <td>2017.000000</td>\n",
       "      <td>3.000000</td>\n",
       "      <td>35.000000</td>\n",
       "    </tr>\n",
       "    <tr>\n",
       "      <th>75%</th>\n",
       "      <td>2018.000000</td>\n",
       "      <td>5.000000</td>\n",
       "      <td>49.000000</td>\n",
       "    </tr>\n",
       "    <tr>\n",
       "      <th>max</th>\n",
       "      <td>2018.000000</td>\n",
       "      <td>21.000000</td>\n",
       "      <td>100.000000</td>\n",
       "    </tr>\n",
       "  </tbody>\n",
       "</table>\n",
       "</div>"
      ],
      "text/plain": [
       "               year  household_size  age_of_respondent\n",
       "count  23524.000000    23524.000000       23524.000000\n",
       "mean    2016.975939        3.797483          38.805220\n",
       "std        0.847371        2.227613          16.520569\n",
       "min     2016.000000        1.000000          16.000000\n",
       "25%     2016.000000        2.000000          26.000000\n",
       "50%     2017.000000        3.000000          35.000000\n",
       "75%     2018.000000        5.000000          49.000000\n",
       "max     2018.000000       21.000000         100.000000"
      ]
     },
     "execution_count": 9,
     "metadata": {},
     "output_type": "execute_result"
    }
   ],
   "source": [
    "train_set.select_dtypes(include='number').describe()"
   ]
  },
  {
   "attachments": {},
   "cell_type": "markdown",
   "metadata": {},
   "source": [
    "Analyse des données manquantes"
   ]
  },
  {
   "cell_type": "code",
   "execution_count": 10,
   "metadata": {},
   "outputs": [
    {
     "data": {
      "text/plain": [
       "country                   0\n",
       "year                      0\n",
       "uniqueid                  0\n",
       "bank_account              0\n",
       "location_type             0\n",
       "cellphone_access          0\n",
       "household_size            0\n",
       "age_of_respondent         0\n",
       "gender_of_respondent      0\n",
       "relationship_with_head    0\n",
       "marital_status            0\n",
       "education_level           0\n",
       "job_type                  0\n",
       "dtype: int64"
      ]
     },
     "execution_count": 10,
     "metadata": {},
     "output_type": "execute_result"
    }
   ],
   "source": [
    "train_set.isnull().sum()"
   ]
  },
  {
   "attachments": {},
   "cell_type": "markdown",
   "metadata": {},
   "source": [
    "Super ! Notre dataset ne contient aucune donnée manquante."
   ]
  },
  {
   "cell_type": "code",
   "execution_count": 11,
   "metadata": {},
   "outputs": [
    {
     "data": {
      "image/png": "[encoded data removed]",
      "text/plain": [
       "<Figure size 1100x500 with 1 Axes>"
      ]
     },
     "metadata": {},
     "output_type": "display_data"
    }
   ],
   "source": [
    "# Check for outliers in the target variable\n",
    "plt.figure(figsize=(11, 5))\n",
    "sns.boxplot(x=train_set['age_of_respondent'])\n",
    "plt.title('Boxplot showing outliers - target variable')\n",
    "plt.show()"
   ]
  },
  {
   "attachments": {},
   "cell_type": "markdown",
   "metadata": {},
   "source": [
    "Il n'y a aucun outlier dans ce dataset."
   ]
  },
  {
   "attachments": {},
   "cell_type": "markdown",
   "metadata": {},
   "source": [
    "### 1.2. Analyse du fond"
   ]
  },
  {
   "attachments": {},
   "cell_type": "markdown",
   "metadata": {},
   "source": [
    "Analyse et visualisation de la target (bank_account)"
   ]
  },
  {
   "cell_type": "code",
   "execution_count": 12,
   "metadata": {},
   "outputs": [
    {
     "data": {
      "image/png": "[encoded data removed]",
      "text/plain": [
       "<Figure size 500x500 with 1 Axes>"
      ]
     },
     "metadata": {},
     "output_type": "display_data"
    }
   ],
   "source": [
    "# explorons la distribution de la target\n",
    "sns.catplot(data=train_set, x=\"bank_account\", kind=\"count\")\n",
    "plt.show()"
   ]
  },
  {
   "attachments": {},
   "cell_type": "markdown",
   "metadata": {},
   "source": [
    "Compréhension des diffiérentes variables"
   ]
  },
  {
   "cell_type": "code",
   "execution_count": 13,
   "metadata": {},
   "outputs": [
    {
     "data": {
      "text/html": [
       "<div>\n",
       "<style scoped>\n",
       "    .dataframe tbody tr th:only-of-type {\n",
       "        vertical-align: middle;\n",
       "    }\n",
       "\n",
       "    .dataframe tbody tr th {\n",
       "        vertical-align: top;\n",
       "    }\n",
       "\n",
       "    .dataframe thead th {\n",
       "        text-align: right;\n",
       "    }\n",
       "</style>\n",
       "<table border=\"1\" class=\"dataframe\">\n",
       "  <thead>\n",
       "    <tr style=\"text-align: right;\">\n",
       "      <th></th>\n",
       "      <th>Variable Definitions</th>\n",
       "      <th>Unnamed: 1</th>\n",
       "    </tr>\n",
       "  </thead>\n",
       "  <tbody>\n",
       "    <tr>\n",
       "      <th>0</th>\n",
       "      <td>country</td>\n",
       "      <td>Country interviewee is in.</td>\n",
       "    </tr>\n",
       "    <tr>\n",
       "      <th>1</th>\n",
       "      <td>year</td>\n",
       "      <td>Year survey was done in.</td>\n",
       "    </tr>\n",
       "    <tr>\n",
       "      <th>2</th>\n",
       "      <td>uniqueid</td>\n",
       "      <td>Unique identifier for each interviewee</td>\n",
       "    </tr>\n",
       "    <tr>\n",
       "      <th>3</th>\n",
       "      <td>location_type</td>\n",
       "      <td>Type of location: Rural, Urban</td>\n",
       "    </tr>\n",
       "    <tr>\n",
       "      <th>4</th>\n",
       "      <td>cellphone_access</td>\n",
       "      <td>If interviewee has access to a cellphone: Yes, No</td>\n",
       "    </tr>\n",
       "    <tr>\n",
       "      <th>5</th>\n",
       "      <td>household_size</td>\n",
       "      <td>Number of people living in one house</td>\n",
       "    </tr>\n",
       "    <tr>\n",
       "      <th>6</th>\n",
       "      <td>age_of_respondent</td>\n",
       "      <td>The age of the interviewee</td>\n",
       "    </tr>\n",
       "    <tr>\n",
       "      <th>7</th>\n",
       "      <td>gender_of_respondent</td>\n",
       "      <td>Gender of interviewee: Male, Female</td>\n",
       "    </tr>\n",
       "    <tr>\n",
       "      <th>8</th>\n",
       "      <td>relationship_with_head</td>\n",
       "      <td>The interviewee’s relationship with the head o...</td>\n",
       "    </tr>\n",
       "    <tr>\n",
       "      <th>9</th>\n",
       "      <td>marital_status</td>\n",
       "      <td>The martial status of the interviewee: Married...</td>\n",
       "    </tr>\n",
       "    <tr>\n",
       "      <th>10</th>\n",
       "      <td>education_level</td>\n",
       "      <td>Highest level of education: No formal educatio...</td>\n",
       "    </tr>\n",
       "    <tr>\n",
       "      <th>11</th>\n",
       "      <td>job_type</td>\n",
       "      <td>Type of job interviewee has: Farming and Fishi...</td>\n",
       "    </tr>\n",
       "  </tbody>\n",
       "</table>\n",
       "</div>"
      ],
      "text/plain": [
       "      Variable Definitions                                         Unnamed: 1\n",
       "0                  country                         Country interviewee is in.\n",
       "1                     year                           Year survey was done in.\n",
       "2                 uniqueid             Unique identifier for each interviewee\n",
       "3            location_type                     Type of location: Rural, Urban\n",
       "4         cellphone_access  If interviewee has access to a cellphone: Yes, No\n",
       "5           household_size               Number of people living in one house\n",
       "6        age_of_respondent                         The age of the interviewee\n",
       "7     gender_of_respondent                Gender of interviewee: Male, Female\n",
       "8   relationship_with_head  The interviewee’s relationship with the head o...\n",
       "9           marital_status  The martial status of the interviewee: Married...\n",
       "10         education_level  Highest level of education: No formal educatio...\n",
       "11                job_type  Type of job interviewee has: Farming and Fishi..."
      ]
     },
     "execution_count": 13,
     "metadata": {},
     "output_type": "execute_result"
    }
   ],
   "source": [
    "variables_definitions = pd.read_csv(DATA_PATH + 'VariableDefinitions.csv') # schema de definition des variables\n",
    "variables_definitions"
   ]
  },
  {
   "attachments": {},
   "cell_type": "markdown",
   "metadata": {},
   "source": [
    "Matrice de corrélation de toutes les variables"
   ]
  },
  {
   "cell_type": "code",
   "execution_count": 14,
   "metadata": {},
   "outputs": [
    {
     "name": "stderr",
     "output_type": "stream",
     "text": [
      "C:\\Users\\Juste KOUASSI\\AppData\\Local\\Temp\\ipykernel_21132\\4140396221.py:3: FutureWarning: The default value of numeric_only in DataFrame.corr is deprecated. In a future version, it will default to False. Select only valid columns or specify the value of numeric_only to silence this warning.\n",
      "  sns.heatmap(train_set.corr(), linewidths=0.1, vmax=1.0,\n"
     ]
    },
    {
     "data": {
      "text/plain": [
       "<Axes: title={'center': 'Corrélation des features'}>"
      ]
     },
     "execution_count": 14,
     "metadata": {},
     "output_type": "execute_result"
    },
    {
     "data": {
      "image/png": "[encoded data removed]",
      "text/plain": [
       "<Figure size 1000x800 with 2 Axes>"
      ]
     },
     "metadata": {},
     "output_type": "display_data"
    }
   ],
   "source": [
    "plt.figure(figsize=(10, 8))\n",
    "plt.title(\"Corrélation des features\")\n",
    "sns.heatmap(train_set.corr(), linewidths=0.1, vmax=1.0,\n",
    "            square=True, cmap=plt.cm.PuBu, linecolor=\"white\", annot=True, annot_kws={\"size\": 16})"
   ]
  },
  {
   "attachments": {},
   "cell_type": "markdown",
   "metadata": {},
   "source": [
    "00 corrélation entre les variables du dataset"
   ]
  },
  {
   "attachments": {},
   "cell_type": "markdown",
   "metadata": {},
   "source": [
    "## 2. Pré-traitement"
   ]
  },
  {
   "attachments": {},
   "cell_type": "markdown",
   "metadata": {},
   "source": [
    "Fonction réalisant le pré-traitement de notre dataset"
   ]
  },
  {
   "cell_type": "code",
   "execution_count": 15,
   "metadata": {},
   "outputs": [],
   "source": [
    "def preprocessing_data(data: pd.DataFrame, scaler) -> pd.DataFrame:\n",
    "    ''' Réalise la phase de pré-traitement d'un dataset à savoir l'encodage \n",
    "    des variables discrètes et la normalisation de toutes les variables \n",
    "    '''\n",
    "    # copie du dataset\n",
    "    data1 = data.copy()\n",
    "    # suppression de la variable d'identifiants uniques\n",
    "    data1.drop('uniqueid', axis=1, inplace=True)\n",
    "    # la liste des colonnes discrètes\n",
    "    object_columns = list(data1.select_dtypes(include='object').columns)\n",
    "    # encodage des variables discrètes\n",
    "    encoder = OrdinalEncoder()\n",
    "    data1[object_columns] = encoder.fit_transform(data1[object_columns])\n",
    "    # normalisation\n",
    "    data1[data1.columns] = scaler.fit_transform(data1)\n",
    "    return data1"
   ]
  },
  {
   "cell_type": "code",
   "execution_count": 16,
   "metadata": {},
   "outputs": [],
   "source": [
    "# Instantiating the scalers\n",
    "MMS = MinMaxScaler()\n",
    "MAS = MaxAbsScaler()\n",
    "SS = StandardScaler()\n",
    "RS = RobustScaler()"
   ]
  },
  {
   "cell_type": "code",
   "execution_count": 17,
   "metadata": {},
   "outputs": [
    {
     "data": {
      "text/html": [
       "<div>\n",
       "<style scoped>\n",
       "    .dataframe tbody tr th:only-of-type {\n",
       "        vertical-align: middle;\n",
       "    }\n",
       "\n",
       "    .dataframe tbody tr th {\n",
       "        vertical-align: top;\n",
       "    }\n",
       "\n",
       "    .dataframe thead th {\n",
       "        text-align: right;\n",
       "    }\n",
       "</style>\n",
       "<table border=\"1\" class=\"dataframe\">\n",
       "  <thead>\n",
       "    <tr style=\"text-align: right;\">\n",
       "      <th></th>\n",
       "      <th>country</th>\n",
       "      <th>year</th>\n",
       "      <th>location_type</th>\n",
       "      <th>cellphone_access</th>\n",
       "      <th>household_size</th>\n",
       "      <th>age_of_respondent</th>\n",
       "      <th>gender_of_respondent</th>\n",
       "      <th>relationship_with_head</th>\n",
       "      <th>marital_status</th>\n",
       "      <th>education_level</th>\n",
       "      <th>job_type</th>\n",
       "    </tr>\n",
       "  </thead>\n",
       "  <tbody>\n",
       "    <tr>\n",
       "      <th>0</th>\n",
       "      <td>0.0</td>\n",
       "      <td>1.0</td>\n",
       "      <td>1.0</td>\n",
       "      <td>1.0</td>\n",
       "      <td>0.105263</td>\n",
       "      <td>0.166667</td>\n",
       "      <td>1.0</td>\n",
       "      <td>0.2</td>\n",
       "      <td>0.5</td>\n",
       "      <td>0.6</td>\n",
       "      <td>0.222222</td>\n",
       "    </tr>\n",
       "    <tr>\n",
       "      <th>1</th>\n",
       "      <td>0.0</td>\n",
       "      <td>1.0</td>\n",
       "      <td>1.0</td>\n",
       "      <td>1.0</td>\n",
       "      <td>0.315789</td>\n",
       "      <td>0.416667</td>\n",
       "      <td>1.0</td>\n",
       "      <td>0.2</td>\n",
       "      <td>0.5</td>\n",
       "      <td>1.0</td>\n",
       "      <td>0.333333</td>\n",
       "    </tr>\n",
       "    <tr>\n",
       "      <th>2</th>\n",
       "      <td>0.0</td>\n",
       "      <td>1.0</td>\n",
       "      <td>0.0</td>\n",
       "      <td>0.0</td>\n",
       "      <td>0.105263</td>\n",
       "      <td>0.726190</td>\n",
       "      <td>0.0</td>\n",
       "      <td>0.8</td>\n",
       "      <td>0.5</td>\n",
       "      <td>0.0</td>\n",
       "      <td>0.888889</td>\n",
       "    </tr>\n",
       "  </tbody>\n",
       "</table>\n",
       "</div>"
      ],
      "text/plain": [
       "   country  year  location_type  cellphone_access  household_size  \\\n",
       "0      0.0   1.0            1.0               1.0        0.105263   \n",
       "1      0.0   1.0            1.0               1.0        0.315789   \n",
       "2      0.0   1.0            0.0               0.0        0.105263   \n",
       "\n",
       "   age_of_respondent  gender_of_respondent  relationship_with_head  \\\n",
       "0           0.166667                   1.0                     0.2   \n",
       "1           0.416667                   1.0                     0.2   \n",
       "2           0.726190                   0.0                     0.8   \n",
       "\n",
       "   marital_status  education_level  job_type  \n",
       "0             0.5              0.6  0.222222  \n",
       "1             0.5              1.0  0.333333  \n",
       "2             0.5              0.0  0.888889  "
      ]
     },
     "execution_count": 17,
     "metadata": {},
     "output_type": "execute_result"
    }
   ],
   "source": [
    "scaler = MMS\n",
    "processed_train = preprocessing_data(train_set, scaler)\n",
    "processed_test = preprocessing_data(test_set, scaler)\n",
    "processed_test.head(3)"
   ]
  },
  {
   "attachments": {},
   "cell_type": "markdown",
   "metadata": {},
   "source": [
    "## 3. Modélisation"
   ]
  },
  {
   "attachments": {},
   "cell_type": "markdown",
   "metadata": {},
   "source": [
    "### 3.1. Choix du meilleur modèle"
   ]
  },
  {
   "attachments": {},
   "cell_type": "markdown",
   "metadata": {},
   "source": [
    "Séparation des features et de la target"
   ]
  },
  {
   "cell_type": "code",
   "execution_count": 18,
   "metadata": {},
   "outputs": [
    {
     "data": {
      "text/html": [
       "<div>\n",
       "<style scoped>\n",
       "    .dataframe tbody tr th:only-of-type {\n",
       "        vertical-align: middle;\n",
       "    }\n",
       "\n",
       "    .dataframe tbody tr th {\n",
       "        vertical-align: top;\n",
       "    }\n",
       "\n",
       "    .dataframe thead th {\n",
       "        text-align: right;\n",
       "    }\n",
       "</style>\n",
       "<table border=\"1\" class=\"dataframe\">\n",
       "  <thead>\n",
       "    <tr style=\"text-align: right;\">\n",
       "      <th></th>\n",
       "      <th>country</th>\n",
       "      <th>year</th>\n",
       "      <th>location_type</th>\n",
       "      <th>cellphone_access</th>\n",
       "      <th>household_size</th>\n",
       "      <th>age_of_respondent</th>\n",
       "      <th>gender_of_respondent</th>\n",
       "      <th>relationship_with_head</th>\n",
       "      <th>marital_status</th>\n",
       "      <th>education_level</th>\n",
       "      <th>job_type</th>\n",
       "    </tr>\n",
       "  </thead>\n",
       "  <tbody>\n",
       "    <tr>\n",
       "      <th>0</th>\n",
       "      <td>0.0</td>\n",
       "      <td>1.0</td>\n",
       "      <td>0.0</td>\n",
       "      <td>1.0</td>\n",
       "      <td>0.10</td>\n",
       "      <td>0.095238</td>\n",
       "      <td>0.0</td>\n",
       "      <td>1.0</td>\n",
       "      <td>0.50</td>\n",
       "      <td>0.6</td>\n",
       "      <td>1.000000</td>\n",
       "    </tr>\n",
       "    <tr>\n",
       "      <th>1</th>\n",
       "      <td>0.0</td>\n",
       "      <td>1.0</td>\n",
       "      <td>0.0</td>\n",
       "      <td>0.0</td>\n",
       "      <td>0.20</td>\n",
       "      <td>0.642857</td>\n",
       "      <td>0.0</td>\n",
       "      <td>0.2</td>\n",
       "      <td>1.00</td>\n",
       "      <td>0.0</td>\n",
       "      <td>0.444444</td>\n",
       "    </tr>\n",
       "    <tr>\n",
       "      <th>2</th>\n",
       "      <td>0.0</td>\n",
       "      <td>1.0</td>\n",
       "      <td>1.0</td>\n",
       "      <td>1.0</td>\n",
       "      <td>0.20</td>\n",
       "      <td>0.119048</td>\n",
       "      <td>1.0</td>\n",
       "      <td>0.6</td>\n",
       "      <td>0.75</td>\n",
       "      <td>1.0</td>\n",
       "      <td>1.000000</td>\n",
       "    </tr>\n",
       "    <tr>\n",
       "      <th>3</th>\n",
       "      <td>0.0</td>\n",
       "      <td>1.0</td>\n",
       "      <td>0.0</td>\n",
       "      <td>1.0</td>\n",
       "      <td>0.20</td>\n",
       "      <td>0.214286</td>\n",
       "      <td>0.0</td>\n",
       "      <td>0.2</td>\n",
       "      <td>0.50</td>\n",
       "      <td>0.4</td>\n",
       "      <td>0.333333</td>\n",
       "    </tr>\n",
       "    <tr>\n",
       "      <th>4</th>\n",
       "      <td>0.0</td>\n",
       "      <td>1.0</td>\n",
       "      <td>1.0</td>\n",
       "      <td>0.0</td>\n",
       "      <td>0.35</td>\n",
       "      <td>0.119048</td>\n",
       "      <td>1.0</td>\n",
       "      <td>0.0</td>\n",
       "      <td>0.75</td>\n",
       "      <td>0.4</td>\n",
       "      <td>0.555556</td>\n",
       "    </tr>\n",
       "  </tbody>\n",
       "</table>\n",
       "</div>"
      ],
      "text/plain": [
       "   country  year  location_type  cellphone_access  household_size  \\\n",
       "0      0.0   1.0            0.0               1.0            0.10   \n",
       "1      0.0   1.0            0.0               0.0            0.20   \n",
       "2      0.0   1.0            1.0               1.0            0.20   \n",
       "3      0.0   1.0            0.0               1.0            0.20   \n",
       "4      0.0   1.0            1.0               0.0            0.35   \n",
       "\n",
       "   age_of_respondent  gender_of_respondent  relationship_with_head  \\\n",
       "0           0.095238                   0.0                     1.0   \n",
       "1           0.642857                   0.0                     0.2   \n",
       "2           0.119048                   1.0                     0.6   \n",
       "3           0.214286                   0.0                     0.2   \n",
       "4           0.119048                   1.0                     0.0   \n",
       "\n",
       "   marital_status  education_level  job_type  \n",
       "0            0.50              0.6  1.000000  \n",
       "1            1.00              0.0  0.444444  \n",
       "2            0.75              1.0  1.000000  \n",
       "3            0.50              0.4  0.333333  \n",
       "4            0.75              0.4  0.555556  "
      ]
     },
     "execution_count": 18,
     "metadata": {},
     "output_type": "execute_result"
    }
   ],
   "source": [
    "X_train_pp = processed_train.drop(['bank_account'], axis=1)\n",
    "y_train_pp = processed_train['bank_account']\n",
    "X_train_pp.head()"
   ]
  },
  {
   "attachments": {},
   "cell_type": "markdown",
   "metadata": {},
   "source": [
    "Algorithme de recherche du meilleur modèle"
   ]
  },
  {
   "cell_type": "code",
   "execution_count": 19,
   "metadata": {},
   "outputs": [],
   "source": [
    "GBC = GradientBoostingClassifier()\n",
    "LGBM = LGBMClassifier()\n",
    "\n",
    "classifiers_list = [GBC, LGBM]"
   ]
  },
  {
   "cell_type": "code",
   "execution_count": 20,
   "metadata": {},
   "outputs": [
    {
     "name": "stdout",
     "output_type": "stream",
     "text": [
      "Taux d'erreur du GradientBoostingClassifier() : 0.10667233319167024\n",
      "Taux d'erreur du LGBMClassifier() : 0.10879728006799827\n"
     ]
    }
   ],
   "source": [
    "X_Train, X_Val, y_Train, y_Val = train_test_split(X_train_pp, y_train_pp, test_size = 0.1, random_state=12)\n",
    "\n",
    "scores_models = {}\n",
    "for model in classifiers_list:\n",
    "    model.fit(X_Train, y_Train)\n",
    "    y_model = model.predict(X_Val)\n",
    "    metrique = 1 - accuracy_score(y_Val, y_model)\n",
    "    scores_models[str(model)] = metrique\n",
    "    print(f\"Taux d'erreur du {str(model)} : {metrique}\")"
   ]
  },
  {
   "cell_type": "code",
   "execution_count": 29,
   "metadata": {},
   "outputs": [
    {
     "name": "stdout",
     "output_type": "stream",
     "text": [
      "Learning rate set to 0.037934\n",
      "0:\tlearn: 0.6585546\ttotal: 284ms\tremaining: 4m 43s\n",
      "5:\tlearn: 0.5201103\ttotal: 367ms\tremaining: 1m\n",
      "10:\tlearn: 0.4390797\ttotal: 435ms\tremaining: 39.1s\n",
      "15:\tlearn: 0.3899897\ttotal: 523ms\tremaining: 32.2s\n",
      "20:\tlearn: 0.3568539\ttotal: 631ms\tremaining: 29.4s\n",
      "25:\tlearn: 0.3343148\ttotal: 737ms\tremaining: 27.6s\n",
      "30:\tlearn: 0.3213136\ttotal: 831ms\tremaining: 26s\n",
      "35:\tlearn: 0.3112620\ttotal: 915ms\tremaining: 24.5s\n",
      "40:\tlearn: 0.3030074\ttotal: 1.01s\tremaining: 23.6s\n",
      "45:\tlearn: 0.2967963\ttotal: 1.11s\tremaining: 23.1s\n",
      "50:\tlearn: 0.2923540\ttotal: 1.22s\tremaining: 22.7s\n",
      "55:\tlearn: 0.2892470\ttotal: 1.33s\tremaining: 22.4s\n",
      "60:\tlearn: 0.2871302\ttotal: 1.43s\tremaining: 21.9s\n",
      "65:\tlearn: 0.2847049\ttotal: 1.53s\tremaining: 21.7s\n",
      "70:\tlearn: 0.2829005\ttotal: 1.63s\tremaining: 21.3s\n",
      "75:\tlearn: 0.2815576\ttotal: 1.72s\tremaining: 21s\n",
      "80:\tlearn: 0.2802692\ttotal: 1.82s\tremaining: 20.6s\n",
      "85:\tlearn: 0.2791231\ttotal: 1.92s\tremaining: 20.4s\n",
      "90:\tlearn: 0.2781952\ttotal: 2.02s\tremaining: 20.2s\n",
      "95:\tlearn: 0.2772609\ttotal: 2.12s\tremaining: 19.9s\n",
      "100:\tlearn: 0.2764588\ttotal: 2.21s\tremaining: 19.7s\n",
      "105:\tlearn: 0.2756109\ttotal: 2.3s\tremaining: 19.4s\n",
      "110:\tlearn: 0.2750240\ttotal: 2.38s\tremaining: 19.1s\n",
      "115:\tlearn: 0.2743042\ttotal: 2.48s\tremaining: 18.9s\n",
      "120:\tlearn: 0.2735906\ttotal: 2.56s\tremaining: 18.6s\n",
      "125:\tlearn: 0.2730647\ttotal: 2.65s\tremaining: 18.4s\n",
      "130:\tlearn: 0.2726712\ttotal: 2.73s\tremaining: 18.1s\n",
      "135:\tlearn: 0.2722934\ttotal: 2.81s\tremaining: 17.8s\n",
      "140:\tlearn: 0.2717102\ttotal: 2.89s\tremaining: 17.6s\n",
      "145:\tlearn: 0.2712800\ttotal: 2.97s\tremaining: 17.4s\n",
      "150:\tlearn: 0.2706833\ttotal: 3.06s\tremaining: 17.2s\n",
      "155:\tlearn: 0.2703311\ttotal: 3.14s\tremaining: 17s\n",
      "160:\tlearn: 0.2698290\ttotal: 3.23s\tremaining: 16.8s\n",
      "165:\tlearn: 0.2693690\ttotal: 3.31s\tremaining: 16.6s\n",
      "170:\tlearn: 0.2688946\ttotal: 3.39s\tremaining: 16.5s\n",
      "175:\tlearn: 0.2684612\ttotal: 3.48s\tremaining: 16.3s\n",
      "180:\tlearn: 0.2680226\ttotal: 3.56s\tremaining: 16.1s\n",
      "185:\tlearn: 0.2676513\ttotal: 3.64s\tremaining: 15.9s\n",
      "190:\tlearn: 0.2673243\ttotal: 3.73s\tremaining: 15.8s\n",
      "195:\tlearn: 0.2669428\ttotal: 3.83s\tremaining: 15.7s\n",
      "200:\tlearn: 0.2666095\ttotal: 3.93s\tremaining: 15.6s\n",
      "205:\tlearn: 0.2663006\ttotal: 4.03s\tremaining: 15.5s\n",
      "210:\tlearn: 0.2659190\ttotal: 4.12s\tremaining: 15.4s\n",
      "215:\tlearn: 0.2656196\ttotal: 4.21s\tremaining: 15.3s\n",
      "220:\tlearn: 0.2652980\ttotal: 4.29s\tremaining: 15.1s\n",
      "225:\tlearn: 0.2650231\ttotal: 4.37s\tremaining: 15s\n",
      "230:\tlearn: 0.2647119\ttotal: 4.52s\tremaining: 15s\n",
      "235:\tlearn: 0.2644306\ttotal: 4.62s\tremaining: 15s\n",
      "240:\tlearn: 0.2641118\ttotal: 4.7s\tremaining: 14.8s\n",
      "245:\tlearn: 0.2637970\ttotal: 4.79s\tremaining: 14.7s\n",
      "250:\tlearn: 0.2635682\ttotal: 4.87s\tremaining: 14.5s\n",
      "255:\tlearn: 0.2633254\ttotal: 4.95s\tremaining: 14.4s\n",
      "260:\tlearn: 0.2630152\ttotal: 5.04s\tremaining: 14.3s\n",
      "265:\tlearn: 0.2627539\ttotal: 5.13s\tremaining: 14.2s\n",
      "270:\tlearn: 0.2624962\ttotal: 5.21s\tremaining: 14s\n",
      "275:\tlearn: 0.2621302\ttotal: 5.3s\tremaining: 13.9s\n",
      "280:\tlearn: 0.2618299\ttotal: 5.38s\tremaining: 13.8s\n",
      "285:\tlearn: 0.2614962\ttotal: 5.45s\tremaining: 13.6s\n",
      "290:\tlearn: 0.2611574\ttotal: 5.53s\tremaining: 13.5s\n",
      "295:\tlearn: 0.2609268\ttotal: 5.63s\tremaining: 13.4s\n",
      "300:\tlearn: 0.2605810\ttotal: 5.71s\tremaining: 13.3s\n",
      "305:\tlearn: 0.2603238\ttotal: 5.79s\tremaining: 13.1s\n",
      "310:\tlearn: 0.2600548\ttotal: 5.88s\tremaining: 13s\n",
      "315:\tlearn: 0.2597386\ttotal: 5.97s\tremaining: 12.9s\n",
      "320:\tlearn: 0.2594675\ttotal: 6.07s\tremaining: 12.8s\n",
      "325:\tlearn: 0.2592516\ttotal: 6.15s\tremaining: 12.7s\n",
      "330:\tlearn: 0.2590353\ttotal: 6.23s\tremaining: 12.6s\n",
      "335:\tlearn: 0.2587849\ttotal: 6.3s\tremaining: 12.5s\n",
      "340:\tlearn: 0.2585366\ttotal: 6.39s\tremaining: 12.3s\n",
      "345:\tlearn: 0.2583130\ttotal: 6.46s\tremaining: 12.2s\n",
      "350:\tlearn: 0.2581429\ttotal: 6.55s\tremaining: 12.1s\n",
      "355:\tlearn: 0.2578957\ttotal: 6.63s\tremaining: 12s\n",
      "360:\tlearn: 0.2576897\ttotal: 6.71s\tremaining: 11.9s\n",
      "365:\tlearn: 0.2574682\ttotal: 6.79s\tremaining: 11.8s\n",
      "370:\tlearn: 0.2572410\ttotal: 6.88s\tremaining: 11.7s\n",
      "375:\tlearn: 0.2569911\ttotal: 6.96s\tremaining: 11.6s\n",
      "380:\tlearn: 0.2567471\ttotal: 7.05s\tremaining: 11.5s\n",
      "385:\tlearn: 0.2565295\ttotal: 7.13s\tremaining: 11.3s\n",
      "390:\tlearn: 0.2562918\ttotal: 7.21s\tremaining: 11.2s\n",
      "395:\tlearn: 0.2560467\ttotal: 7.29s\tremaining: 11.1s\n",
      "400:\tlearn: 0.2558126\ttotal: 7.38s\tremaining: 11s\n",
      "405:\tlearn: 0.2555266\ttotal: 7.46s\tremaining: 10.9s\n",
      "410:\tlearn: 0.2552168\ttotal: 7.54s\tremaining: 10.8s\n",
      "415:\tlearn: 0.2550069\ttotal: 7.61s\tremaining: 10.7s\n",
      "420:\tlearn: 0.2546759\ttotal: 7.69s\tremaining: 10.6s\n",
      "425:\tlearn: 0.2543798\ttotal: 7.77s\tremaining: 10.5s\n",
      "430:\tlearn: 0.2541095\ttotal: 7.85s\tremaining: 10.4s\n",
      "435:\tlearn: 0.2538735\ttotal: 7.93s\tremaining: 10.3s\n",
      "440:\tlearn: 0.2535583\ttotal: 8s\tremaining: 10.1s\n",
      "445:\tlearn: 0.2532826\ttotal: 8.08s\tremaining: 10s\n",
      "450:\tlearn: 0.2530160\ttotal: 8.16s\tremaining: 9.93s\n",
      "455:\tlearn: 0.2527774\ttotal: 8.24s\tremaining: 9.83s\n",
      "460:\tlearn: 0.2524508\ttotal: 8.32s\tremaining: 9.73s\n",
      "465:\tlearn: 0.2522022\ttotal: 8.4s\tremaining: 9.63s\n",
      "470:\tlearn: 0.2519795\ttotal: 8.48s\tremaining: 9.52s\n",
      "475:\tlearn: 0.2517449\ttotal: 8.56s\tremaining: 9.43s\n",
      "480:\tlearn: 0.2515204\ttotal: 8.64s\tremaining: 9.32s\n",
      "485:\tlearn: 0.2512973\ttotal: 8.72s\tremaining: 9.22s\n",
      "490:\tlearn: 0.2510778\ttotal: 8.8s\tremaining: 9.12s\n",
      "495:\tlearn: 0.2507685\ttotal: 8.88s\tremaining: 9.03s\n",
      "500:\tlearn: 0.2505478\ttotal: 8.96s\tremaining: 8.93s\n",
      "505:\tlearn: 0.2503445\ttotal: 9.04s\tremaining: 8.83s\n",
      "510:\tlearn: 0.2501086\ttotal: 9.12s\tremaining: 8.72s\n",
      "515:\tlearn: 0.2499438\ttotal: 9.19s\tremaining: 8.62s\n",
      "520:\tlearn: 0.2496794\ttotal: 9.29s\tremaining: 8.54s\n",
      "525:\tlearn: 0.2494173\ttotal: 9.37s\tremaining: 8.45s\n",
      "530:\tlearn: 0.2492347\ttotal: 9.45s\tremaining: 8.34s\n",
      "535:\tlearn: 0.2490294\ttotal: 9.53s\tremaining: 8.25s\n",
      "540:\tlearn: 0.2488075\ttotal: 9.62s\tremaining: 8.16s\n",
      "545:\tlearn: 0.2485886\ttotal: 9.7s\tremaining: 8.06s\n",
      "550:\tlearn: 0.2483676\ttotal: 9.78s\tremaining: 7.97s\n",
      "555:\tlearn: 0.2481546\ttotal: 9.85s\tremaining: 7.87s\n",
      "560:\tlearn: 0.2479377\ttotal: 9.93s\tremaining: 7.77s\n",
      "565:\tlearn: 0.2477285\ttotal: 10s\tremaining: 7.67s\n",
      "570:\tlearn: 0.2474959\ttotal: 10.1s\tremaining: 7.58s\n",
      "575:\tlearn: 0.2472662\ttotal: 10.2s\tremaining: 7.49s\n",
      "580:\tlearn: 0.2470853\ttotal: 10.3s\tremaining: 7.4s\n",
      "585:\tlearn: 0.2468601\ttotal: 10.3s\tremaining: 7.3s\n",
      "590:\tlearn: 0.2466739\ttotal: 10.4s\tremaining: 7.21s\n",
      "595:\tlearn: 0.2464823\ttotal: 10.5s\tremaining: 7.11s\n",
      "600:\tlearn: 0.2462807\ttotal: 10.6s\tremaining: 7.02s\n",
      "605:\tlearn: 0.2460669\ttotal: 10.7s\tremaining: 6.92s\n",
      "610:\tlearn: 0.2458698\ttotal: 10.7s\tremaining: 6.83s\n",
      "615:\tlearn: 0.2456281\ttotal: 10.8s\tremaining: 6.74s\n",
      "620:\tlearn: 0.2453641\ttotal: 10.9s\tremaining: 6.65s\n",
      "625:\tlearn: 0.2451495\ttotal: 11s\tremaining: 6.55s\n",
      "630:\tlearn: 0.2449750\ttotal: 11s\tremaining: 6.46s\n",
      "635:\tlearn: 0.2447766\ttotal: 11.1s\tremaining: 6.36s\n",
      "640:\tlearn: 0.2445752\ttotal: 11.2s\tremaining: 6.27s\n",
      "645:\tlearn: 0.2443129\ttotal: 11.3s\tremaining: 6.17s\n",
      "650:\tlearn: 0.2440434\ttotal: 11.3s\tremaining: 6.08s\n",
      "655:\tlearn: 0.2438716\ttotal: 11.4s\tremaining: 5.98s\n",
      "660:\tlearn: 0.2436773\ttotal: 11.5s\tremaining: 5.89s\n",
      "665:\tlearn: 0.2434953\ttotal: 11.6s\tremaining: 5.8s\n",
      "670:\tlearn: 0.2432852\ttotal: 11.6s\tremaining: 5.71s\n",
      "675:\tlearn: 0.2430924\ttotal: 11.7s\tremaining: 5.62s\n",
      "680:\tlearn: 0.2429325\ttotal: 11.8s\tremaining: 5.53s\n",
      "685:\tlearn: 0.2427773\ttotal: 11.9s\tremaining: 5.44s\n",
      "690:\tlearn: 0.2426033\ttotal: 12s\tremaining: 5.35s\n",
      "695:\tlearn: 0.2424017\ttotal: 12s\tremaining: 5.25s\n",
      "700:\tlearn: 0.2421759\ttotal: 12.1s\tremaining: 5.17s\n",
      "705:\tlearn: 0.2419973\ttotal: 12.2s\tremaining: 5.08s\n",
      "710:\tlearn: 0.2418156\ttotal: 12.3s\tremaining: 4.99s\n",
      "715:\tlearn: 0.2416029\ttotal: 12.4s\tremaining: 4.9s\n",
      "720:\tlearn: 0.2414249\ttotal: 12.4s\tremaining: 4.81s\n",
      "725:\tlearn: 0.2412742\ttotal: 12.5s\tremaining: 4.72s\n",
      "730:\tlearn: 0.2410890\ttotal: 12.6s\tremaining: 4.63s\n",
      "735:\tlearn: 0.2408317\ttotal: 12.7s\tremaining: 4.54s\n",
      "740:\tlearn: 0.2406095\ttotal: 12.7s\tremaining: 4.46s\n",
      "745:\tlearn: 0.2404368\ttotal: 12.8s\tremaining: 4.37s\n",
      "750:\tlearn: 0.2401794\ttotal: 12.9s\tremaining: 4.28s\n",
      "755:\tlearn: 0.2400625\ttotal: 13s\tremaining: 4.19s\n",
      "760:\tlearn: 0.2398885\ttotal: 13.1s\tremaining: 4.1s\n",
      "765:\tlearn: 0.2396842\ttotal: 13.1s\tremaining: 4.01s\n",
      "770:\tlearn: 0.2395142\ttotal: 13.2s\tremaining: 3.92s\n",
      "775:\tlearn: 0.2393215\ttotal: 13.3s\tremaining: 3.83s\n",
      "780:\tlearn: 0.2391568\ttotal: 13.4s\tremaining: 3.75s\n",
      "785:\tlearn: 0.2389943\ttotal: 13.4s\tremaining: 3.66s\n",
      "790:\tlearn: 0.2388100\ttotal: 13.5s\tremaining: 3.57s\n",
      "795:\tlearn: 0.2386006\ttotal: 13.6s\tremaining: 3.49s\n",
      "800:\tlearn: 0.2384013\ttotal: 13.7s\tremaining: 3.4s\n",
      "805:\tlearn: 0.2381996\ttotal: 13.7s\tremaining: 3.31s\n",
      "810:\tlearn: 0.2380239\ttotal: 13.8s\tremaining: 3.22s\n",
      "815:\tlearn: 0.2378934\ttotal: 13.9s\tremaining: 3.13s\n",
      "820:\tlearn: 0.2377327\ttotal: 14s\tremaining: 3.05s\n",
      "825:\tlearn: 0.2375600\ttotal: 14.1s\tremaining: 2.96s\n",
      "830:\tlearn: 0.2373812\ttotal: 14.1s\tremaining: 2.87s\n",
      "835:\tlearn: 0.2371809\ttotal: 14.2s\tremaining: 2.79s\n",
      "840:\tlearn: 0.2370163\ttotal: 14.3s\tremaining: 2.7s\n",
      "845:\tlearn: 0.2368228\ttotal: 14.4s\tremaining: 2.61s\n",
      "850:\tlearn: 0.2365899\ttotal: 14.4s\tremaining: 2.53s\n",
      "855:\tlearn: 0.2363759\ttotal: 14.5s\tremaining: 2.44s\n",
      "860:\tlearn: 0.2362200\ttotal: 14.6s\tremaining: 2.35s\n",
      "865:\tlearn: 0.2360179\ttotal: 14.7s\tremaining: 2.27s\n",
      "870:\tlearn: 0.2358531\ttotal: 14.7s\tremaining: 2.18s\n",
      "875:\tlearn: 0.2356673\ttotal: 14.8s\tremaining: 2.1s\n",
      "880:\tlearn: 0.2355091\ttotal: 14.9s\tremaining: 2.01s\n",
      "885:\tlearn: 0.2353021\ttotal: 15s\tremaining: 1.93s\n",
      "890:\tlearn: 0.2351420\ttotal: 15s\tremaining: 1.84s\n",
      "895:\tlearn: 0.2349330\ttotal: 15.1s\tremaining: 1.75s\n",
      "900:\tlearn: 0.2347953\ttotal: 15.2s\tremaining: 1.67s\n",
      "905:\tlearn: 0.2345714\ttotal: 15.3s\tremaining: 1.58s\n",
      "910:\tlearn: 0.2344482\ttotal: 15.3s\tremaining: 1.5s\n",
      "915:\tlearn: 0.2342934\ttotal: 15.4s\tremaining: 1.41s\n",
      "920:\tlearn: 0.2340641\ttotal: 15.5s\tremaining: 1.33s\n",
      "925:\tlearn: 0.2339083\ttotal: 15.5s\tremaining: 1.24s\n",
      "930:\tlearn: 0.2337689\ttotal: 15.6s\tremaining: 1.16s\n",
      "935:\tlearn: 0.2336326\ttotal: 15.7s\tremaining: 1.07s\n",
      "940:\tlearn: 0.2334415\ttotal: 15.8s\tremaining: 989ms\n",
      "945:\tlearn: 0.2332811\ttotal: 15.9s\tremaining: 905ms\n",
      "950:\tlearn: 0.2330934\ttotal: 15.9s\tremaining: 821ms\n",
      "955:\tlearn: 0.2329385\ttotal: 16s\tremaining: 738ms\n",
      "960:\tlearn: 0.2327711\ttotal: 16.1s\tremaining: 654ms\n",
      "965:\tlearn: 0.2325990\ttotal: 16.2s\tremaining: 570ms\n",
      "970:\tlearn: 0.2324284\ttotal: 16.3s\tremaining: 487ms\n",
      "975:\tlearn: 0.2322315\ttotal: 16.4s\tremaining: 403ms\n",
      "980:\tlearn: 0.2320818\ttotal: 16.5s\tremaining: 319ms\n",
      "985:\tlearn: 0.2319425\ttotal: 16.6s\tremaining: 235ms\n",
      "990:\tlearn: 0.2317387\ttotal: 16.6s\tremaining: 151ms\n",
      "995:\tlearn: 0.2315382\ttotal: 16.7s\tremaining: 67.2ms\n",
      "999:\tlearn: 0.2313928\ttotal: 16.8s\tremaining: 0us\n",
      "Taux d'erreur du <catboost.core.CatBoostClassifier object at 0x000001758ABA3580> : 0.10539736506587338\n"
     ]
    }
   ],
   "source": [
    "model_cb = CatBoostClassifier()\n",
    "model_cb.fit(X_Train, y_Train, verbose=50)\n",
    "y_model_cb = model_cb.predict(X_Val)\n",
    "metrique = 1 - accuracy_score(y_Val, y_model_cb)\n",
    "print(f\"Taux d'erreur du {str(model_cb)} : {metrique}\")"
   ]
  },
  {
   "cell_type": "code",
   "execution_count": 42,
   "metadata": {},
   "outputs": [],
   "source": [
    "n_skf = 5\n",
    "kf = StratifiedKFold(n_skf)\n",
    "\n",
    "params = {\n",
    "    'n_estimators': 3000,\n",
    "    'learning_rate': 0.1,\n",
    "    'objective': 'Logloss',\n",
    "    'rsm': 0.7,\n",
    "    'random_seed': SEED,\n",
    "    'early_stopping_rounds': 200,\n",
    "    'use_best_model': True,\n",
    "}"
   ]
  },
  {
   "cell_type": "code",
   "execution_count": 43,
   "metadata": {},
   "outputs": [],
   "source": [
    "target = 'bank_account'"
   ]
  },
  {
   "cell_type": "code",
   "execution_count": 45,
   "metadata": {},
   "outputs": [
    {
     "name": "stdout",
     "output_type": "stream",
     "text": [
      "0:\tlearn: 0.5916320\ttest: 0.5913266\tbest: 0.5913266 (0)\ttotal: 11.1ms\tremaining: 33.3s\n",
      "50:\tlearn: 0.2720756\ttest: 0.2791346\tbest: 0.2791346 (50)\ttotal: 458ms\tremaining: 26.5s\n",
      "100:\tlearn: 0.2628158\ttest: 0.2783494\tbest: 0.2780674 (96)\ttotal: 817ms\tremaining: 23.4s\n",
      "150:\tlearn: 0.2560315\ttest: 0.2786921\tbest: 0.2780674 (96)\ttotal: 1.24s\tremaining: 23.4s\n",
      "200:\tlearn: 0.2502485\ttest: 0.2792682\tbest: 0.2780674 (96)\ttotal: 1.66s\tremaining: 23.1s\n",
      "250:\tlearn: 0.2446128\ttest: 0.2786012\tbest: 0.2780674 (96)\ttotal: 2.05s\tremaining: 22.4s\n",
      "Stopped by overfitting detector  (200 iterations wait)\n",
      "\n",
      "bestTest = 0.278067382\n",
      "bestIteration = 96\n",
      "\n",
      "Shrink model to first 97 iterations.\n",
      "Taux d'erreur du <catboost.core.CatBoostClassifier object at 0x000001758F387940> : 0.10837229069273269\n"
     ]
    }
   ],
   "source": [
    "model_cb_2 = CatBoostClassifier(**params)\n",
    "model_cb_2.fit(X_Train, y_Train, eval_set=[(X_Val, y_Val)], verbose=50)\n",
    "\n",
    "y_model_cb_2 = model_cb_2.predict(X_Val)\n",
    "metrique = 1 - accuracy_score(y_Val, y_model_cb_2)\n",
    "print(f\"Taux d'erreur du {str(model_cb_2)} : {metrique}\")\n"
   ]
  },
  {
   "attachments": {},
   "cell_type": "markdown",
   "metadata": {},
   "source": [
    "Algorithme de recherche du meilleur SEED"
   ]
  },
  {
   "cell_type": "code",
   "execution_count": 21,
   "metadata": {},
   "outputs": [],
   "source": [
    "def index_min_value(d):\n",
    "    if len(d) == 0:\n",
    "        return None\n",
    "    else:\n",
    "        min_key = min(d, key=d.get)\n",
    "        return min_key"
   ]
  },
  {
   "cell_type": "code",
   "execution_count": 22,
   "metadata": {},
   "outputs": [
    {
     "name": "stdout",
     "output_type": "stream",
     "text": [
      "50  -  0.11814704632384188\n",
      "51  -  0.11984700382490443\n",
      "52  -  0.10327241818954525\n",
      "53  -  0.11007224819379513\n",
      "54  -  0.12112197195070118\n",
      "55  -  0.10029749256268594\n",
      "56  -  0.11347216319592013\n",
      "57  -  0.11644708882277943\n",
      "58  -  0.11007224819379513\n",
      "59  -  0.11474713132171699\n",
      "60  -  0.11899702507437315\n",
      "61  -  0.10582235444113897\n",
      "62  -  0.10497237569060769\n",
      "63  -  0.11049723756906082\n",
      "64  -  0.1045473863153421\n",
      "65  -  0.12324691882702932\n",
      "66  -  0.11729706757331071\n",
      "67  -  0.1206969825754356\n",
      "68  -  0.10922226944326396\n",
      "69  -  0.11474713132171699\n",
      "70  -  0.10879728006799827\n",
      "71  -  0.12197195070123246\n",
      "72  -  0.11814704632384188\n",
      "73  -  0.11219719507012327\n",
      "74  -  0.11092222694432641\n",
      "75  -  0.11559711007224815\n",
      "76  -  0.11092222694432641\n",
      "77  -  0.11092222694432641\n",
      "78  -  0.11942201444963874\n",
      "79  -  0.11474713132171699\n",
      "80  -  0.12027199320017001\n",
      "81  -  0.10624734381640455\n",
      "82  -  0.11177220569485757\n",
      "83  -  0.11049723756906082\n",
      "84  -  0.10964725881852955\n",
      "85  -  0.11559711007224815\n",
      "86  -  0.1079473013174671\n",
      "87  -  0.10199745006374838\n",
      "88  -  0.11984700382490443\n",
      "89  -  0.11474713132171699\n",
      "90  -  0.10837229069273269\n",
      "91  -  0.10752231194220141\n",
      "92  -  0.11219719507012327\n",
      "93  -  0.11262218444538885\n",
      "94  -  0.10624734381640455\n",
      "95  -  0.10539736506587338\n",
      "96  -  0.10964725881852955\n",
      "97  -  0.11942201444963874\n",
      "98  -  0.10837229069273269\n",
      "99  -  0.11942201444963874\n",
      "100  -  0.10922226944326396\n"
     ]
    }
   ],
   "source": [
    "scores_lgbms = []\n",
    "for i in range(50, 101):\n",
    "\tX_Train, X_Val, y_Train, y_Val = train_test_split(X_train_pp, y_train_pp, stratify = y_train_pp, test_size = 0.1, random_state=i)\n",
    "\tLGBM.fit(X_Train, y_Train)\n",
    "\ty_lgbm = LGBM.predict(X_Val)\n",
    "\tmetrique = 1 - accuracy_score(y_Val, y_lgbm)\n",
    "\tscores_lgbms.append(metrique)\n",
    "\tprint(i, ' - ', metrique)"
   ]
  },
  {
   "cell_type": "code",
   "execution_count": 23,
   "metadata": {},
   "outputs": [
    {
     "data": {
      "text/plain": [
       "0.10667233319167024"
      ]
     },
     "execution_count": 23,
     "metadata": {},
     "output_type": "execute_result"
    }
   ],
   "source": [
    "min(scores_models.values())"
   ]
  },
  {
   "attachments": {},
   "cell_type": "markdown",
   "metadata": {},
   "source": [
    "Le meilleur modèle parmi les modèles précédents est donc le LGBM."
   ]
  },
  {
   "cell_type": "code",
   "execution_count": 24,
   "metadata": {},
   "outputs": [],
   "source": [
    "# coix du modèle\n",
    "model = LGBM"
   ]
  },
  {
   "cell_type": "code",
   "execution_count": 30,
   "metadata": {},
   "outputs": [],
   "source": [
    "# Set seed for reproducability\n",
    "SEED = 12\n",
    "random.seed(SEED)\n",
    "np.random.seed(SEED)"
   ]
  },
  {
   "attachments": {},
   "cell_type": "markdown",
   "metadata": {},
   "source": [
    "Matrice de confusion"
   ]
  },
  {
   "cell_type": "code",
   "execution_count": 39,
   "metadata": {},
   "outputs": [
    {
     "data": {
      "image/png": "[encoded data removed]",
      "text/plain": [
       "<Figure size 640x480 with 2 Axes>"
      ]
     },
     "metadata": {},
     "output_type": "display_data"
    }
   ],
   "source": [
    "# traçons la matrice de confusion pour le GBC\n",
    "ConfusionMatrixDisplay.from_estimator(model, X_Val, y_Val, normalize='true')\n",
    "plt.show()"
   ]
  },
  {
   "attachments": {},
   "cell_type": "markdown",
   "metadata": {},
   "source": [
    "Cette matrice montre que notre modèle reconnaît mieux les vrais négatifs (l'individu n'a pas de compte bancaire) par rapport aux vrais positifs (l'individu a un compte bancaire). Cela était prévisible car il y a 6 fois plus de négatifs que de positifs dans le dataset."
   ]
  },
  {
   "attachments": {},
   "cell_type": "markdown",
   "metadata": {},
   "source": [
    "### 3.3. Optimisation avec GridSearchCV"
   ]
  },
  {
   "attachments": {},
   "cell_type": "markdown",
   "metadata": {},
   "source": [
    "Soit la liste des hyperparamètres valides pour l'estimateur GradientBoostingClassifier() : ['ccp_alpha', 'criterion', 'init', 'learning_rate', 'loss', 'max_depth', 'max_features', 'max_leaf_nodes', 'min_impurity_decrease', 'min_samples_leaf', 'min_samples_split', 'min_weight_fraction_leaf', 'n_estimators', 'n_iter_no_change', 'random_state', 'subsample', 'tol', 'validation_fraction', 'verbose', 'warm_start']"
   ]
  },
  {
   "cell_type": "code",
   "execution_count": null,
   "metadata": {},
   "outputs": [],
   "source": [
    "params_grid: dict[str, tuple] = {\n",
    "    'random_state': (0, 12, 42, 55),\n",
    "    'n_estimators': (100, 150, 200),\n",
    "    'max_depth': (3, 5, 8),\n",
    "    'min_samples_leaf': (4, 6, 8),\n",
    "    'min_samples_split': (4, 8)\n",
    "}\n",
    "grid_cv = GridSearchCV(LGBM, params_grid, n_jobs=-1, verbose=2, cv=3)\n",
    "grid_cv.fit(X_Train, y_Train)"
   ]
  },
  {
   "cell_type": "code",
   "execution_count": null,
   "metadata": {},
   "outputs": [
    {
     "name": "stdout",
     "output_type": "stream",
     "text": [
      "Taux d'erreur de LGBMClassifier :  0.10327241818954525\n"
     ]
    }
   ],
   "source": [
    "optimized_model = GradientBoostingClassifier(\n",
    "    max_depth=grid_cv.best_params_['max_depth'], \n",
    "\tmin_samples_leaf=grid_cv.best_params_['min_samples_leaf'], \n",
    "\tmin_samples_split=grid_cv.best_params_['min_samples_split'], \n",
    "\tn_estimators=grid_cv.best_params_['n_estimators'], \n",
    "\trandom_state=grid_cv.best_params_['random_state']\n",
    ")\n",
    "\n",
    "optimized_model.fit(X_Train, y_Train)\n",
    "y_pred = optimized_model.predict(X_Val)\n",
    "\n",
    "print(\"Taux d'erreur de LGBMClassifier : \", 1 - accuracy_score(y_Val, y_pred))\n",
    "# 0.10114747131321722"
   ]
  },
  {
   "cell_type": "code",
   "execution_count": 46,
   "metadata": {},
   "outputs": [
    {
     "data": {
      "image/png": "[encoded data removed]",
      "text/plain": [
       "<Figure size 640x480 with 2 Axes>"
      ]
     },
     "metadata": {},
     "output_type": "display_data"
    }
   ],
   "source": [
    "# traçons la matrice de confusion pour le GBC\n",
    "# ConfusionMatrixDisplay.from_estimator(optimized_model, X_Val, y_Val, normalize='true')\n",
    "ConfusionMatrixDisplay.from_estimator(model_cb_2, X_Val, y_Val, normalize='true')\n",
    "plt.show()"
   ]
  },
  {
   "attachments": {},
   "cell_type": "markdown",
   "metadata": {},
   "source": [
    "## 4. Prédiction"
   ]
  },
  {
   "attachments": {},
   "cell_type": "markdown",
   "metadata": {},
   "source": [
    "Après avoir choisi un modèle, réalisons maintenant les prédictions sur notre ensemble de test."
   ]
  },
  {
   "cell_type": "code",
   "execution_count": 47,
   "metadata": {},
   "outputs": [],
   "source": [
    "try:\n",
    "\tprocessed_test.drop(['bank_account'], axis=1, inplace=True)\n",
    "except:\n",
    "\tpass"
   ]
  },
  {
   "cell_type": "code",
   "execution_count": null,
   "metadata": {},
   "outputs": [],
   "source": [
    "model = model"
   ]
  },
  {
   "cell_type": "code",
   "execution_count": 48,
   "metadata": {},
   "outputs": [
    {
     "data": {
      "text/html": [
       "<div>\n",
       "<style scoped>\n",
       "    .dataframe tbody tr th:only-of-type {\n",
       "        vertical-align: middle;\n",
       "    }\n",
       "\n",
       "    .dataframe tbody tr th {\n",
       "        vertical-align: top;\n",
       "    }\n",
       "\n",
       "    .dataframe thead th {\n",
       "        text-align: right;\n",
       "    }\n",
       "</style>\n",
       "<table border=\"1\" class=\"dataframe\">\n",
       "  <thead>\n",
       "    <tr style=\"text-align: right;\">\n",
       "      <th></th>\n",
       "      <th>country</th>\n",
       "      <th>year</th>\n",
       "      <th>uniqueid</th>\n",
       "      <th>location_type</th>\n",
       "      <th>cellphone_access</th>\n",
       "      <th>household_size</th>\n",
       "      <th>age_of_respondent</th>\n",
       "      <th>gender_of_respondent</th>\n",
       "      <th>relationship_with_head</th>\n",
       "      <th>marital_status</th>\n",
       "      <th>education_level</th>\n",
       "      <th>job_type</th>\n",
       "      <th>bank_account</th>\n",
       "    </tr>\n",
       "  </thead>\n",
       "  <tbody>\n",
       "    <tr>\n",
       "      <th>0</th>\n",
       "      <td>Kenya</td>\n",
       "      <td>2018</td>\n",
       "      <td>uniqueid_6056</td>\n",
       "      <td>Urban</td>\n",
       "      <td>Yes</td>\n",
       "      <td>3</td>\n",
       "      <td>30</td>\n",
       "      <td>Male</td>\n",
       "      <td>Head of Household</td>\n",
       "      <td>Married/Living together</td>\n",
       "      <td>Secondary education</td>\n",
       "      <td>Formally employed Government</td>\n",
       "      <td>1.0</td>\n",
       "    </tr>\n",
       "    <tr>\n",
       "      <th>1</th>\n",
       "      <td>Kenya</td>\n",
       "      <td>2018</td>\n",
       "      <td>uniqueid_6060</td>\n",
       "      <td>Urban</td>\n",
       "      <td>Yes</td>\n",
       "      <td>7</td>\n",
       "      <td>51</td>\n",
       "      <td>Male</td>\n",
       "      <td>Head of Household</td>\n",
       "      <td>Married/Living together</td>\n",
       "      <td>Vocational/Specialised training</td>\n",
       "      <td>Formally employed Private</td>\n",
       "      <td>1.0</td>\n",
       "    </tr>\n",
       "    <tr>\n",
       "      <th>2</th>\n",
       "      <td>Kenya</td>\n",
       "      <td>2018</td>\n",
       "      <td>uniqueid_6065</td>\n",
       "      <td>Rural</td>\n",
       "      <td>No</td>\n",
       "      <td>3</td>\n",
       "      <td>77</td>\n",
       "      <td>Female</td>\n",
       "      <td>Parent</td>\n",
       "      <td>Married/Living together</td>\n",
       "      <td>No formal education</td>\n",
       "      <td>Remittance Dependent</td>\n",
       "      <td>0.0</td>\n",
       "    </tr>\n",
       "    <tr>\n",
       "      <th>3</th>\n",
       "      <td>Kenya</td>\n",
       "      <td>2018</td>\n",
       "      <td>uniqueid_6072</td>\n",
       "      <td>Rural</td>\n",
       "      <td>No</td>\n",
       "      <td>6</td>\n",
       "      <td>39</td>\n",
       "      <td>Female</td>\n",
       "      <td>Head of Household</td>\n",
       "      <td>Married/Living together</td>\n",
       "      <td>Primary education</td>\n",
       "      <td>Remittance Dependent</td>\n",
       "      <td>0.0</td>\n",
       "    </tr>\n",
       "    <tr>\n",
       "      <th>4</th>\n",
       "      <td>Kenya</td>\n",
       "      <td>2018</td>\n",
       "      <td>uniqueid_6073</td>\n",
       "      <td>Urban</td>\n",
       "      <td>No</td>\n",
       "      <td>3</td>\n",
       "      <td>16</td>\n",
       "      <td>Male</td>\n",
       "      <td>Child</td>\n",
       "      <td>Single/Never Married</td>\n",
       "      <td>Secondary education</td>\n",
       "      <td>Remittance Dependent</td>\n",
       "      <td>0.0</td>\n",
       "    </tr>\n",
       "  </tbody>\n",
       "</table>\n",
       "</div>"
      ],
      "text/plain": [
       "  country  year       uniqueid location_type cellphone_access  household_size  \\\n",
       "0   Kenya  2018  uniqueid_6056         Urban              Yes               3   \n",
       "1   Kenya  2018  uniqueid_6060         Urban              Yes               7   \n",
       "2   Kenya  2018  uniqueid_6065         Rural               No               3   \n",
       "3   Kenya  2018  uniqueid_6072         Rural               No               6   \n",
       "4   Kenya  2018  uniqueid_6073         Urban               No               3   \n",
       "\n",
       "   age_of_respondent gender_of_respondent relationship_with_head  \\\n",
       "0                 30                 Male      Head of Household   \n",
       "1                 51                 Male      Head of Household   \n",
       "2                 77               Female                 Parent   \n",
       "3                 39               Female      Head of Household   \n",
       "4                 16                 Male                  Child   \n",
       "\n",
       "            marital_status                  education_level  \\\n",
       "0  Married/Living together              Secondary education   \n",
       "1  Married/Living together  Vocational/Specialised training   \n",
       "2  Married/Living together              No formal education   \n",
       "3  Married/Living together                Primary education   \n",
       "4     Single/Never Married              Secondary education   \n",
       "\n",
       "                       job_type  bank_account  \n",
       "0  Formally employed Government           1.0  \n",
       "1     Formally employed Private           1.0  \n",
       "2          Remittance Dependent           0.0  \n",
       "3          Remittance Dependent           0.0  \n",
       "4          Remittance Dependent           0.0  "
      ]
     },
     "execution_count": 48,
     "metadata": {},
     "output_type": "execute_result"
    }
   ],
   "source": [
    "test_set['bank_account'] = model_cb_2.predict(processed_test)\n",
    "test_set.head(5)"
   ]
  },
  {
   "attachments": {},
   "cell_type": "markdown",
   "metadata": {},
   "source": [
    "## 5. Soumission"
   ]
  },
  {
   "attachments": {},
   "cell_type": "markdown",
   "metadata": {},
   "source": [
    "Visualisation du fichier de soumission"
   ]
  },
  {
   "cell_type": "code",
   "execution_count": null,
   "metadata": {},
   "outputs": [],
   "source": [
    "sample_submission = pd.read_csv(DATA_PATH + 'SampleSubmission.csv') # exemple de soumission\n",
    "sample_submission.head()"
   ]
  },
  {
   "attachments": {},
   "cell_type": "markdown",
   "metadata": {},
   "source": [
    "Création de notre fichier de soumission"
   ]
  },
  {
   "cell_type": "code",
   "execution_count": null,
   "metadata": {},
   "outputs": [
    {
     "data": {
      "text/html": [
       "<div>\n",
       "<style scoped>\n",
       "    .dataframe tbody tr th:only-of-type {\n",
       "        vertical-align: middle;\n",
       "    }\n",
       "\n",
       "    .dataframe tbody tr th {\n",
       "        vertical-align: top;\n",
       "    }\n",
       "\n",
       "    .dataframe thead th {\n",
       "        text-align: right;\n",
       "    }\n",
       "</style>\n",
       "<table border=\"1\" class=\"dataframe\">\n",
       "  <thead>\n",
       "    <tr style=\"text-align: right;\">\n",
       "      <th></th>\n",
       "      <th>country</th>\n",
       "      <th>year</th>\n",
       "      <th>uniqueid</th>\n",
       "      <th>location_type</th>\n",
       "      <th>cellphone_access</th>\n",
       "      <th>household_size</th>\n",
       "      <th>age_of_respondent</th>\n",
       "      <th>gender_of_respondent</th>\n",
       "      <th>relationship_with_head</th>\n",
       "      <th>marital_status</th>\n",
       "      <th>education_level</th>\n",
       "      <th>job_type</th>\n",
       "      <th>bank_account</th>\n",
       "    </tr>\n",
       "  </thead>\n",
       "  <tbody>\n",
       "    <tr>\n",
       "      <th>0</th>\n",
       "      <td>Kenya</td>\n",
       "      <td>2018</td>\n",
       "      <td>uniqueid_6056</td>\n",
       "      <td>Urban</td>\n",
       "      <td>Yes</td>\n",
       "      <td>3</td>\n",
       "      <td>30</td>\n",
       "      <td>Male</td>\n",
       "      <td>Head of Household</td>\n",
       "      <td>Married/Living together</td>\n",
       "      <td>Secondary education</td>\n",
       "      <td>Formally employed Government</td>\n",
       "      <td>1.0</td>\n",
       "    </tr>\n",
       "    <tr>\n",
       "      <th>1</th>\n",
       "      <td>Kenya</td>\n",
       "      <td>2018</td>\n",
       "      <td>uniqueid_6060</td>\n",
       "      <td>Urban</td>\n",
       "      <td>Yes</td>\n",
       "      <td>7</td>\n",
       "      <td>51</td>\n",
       "      <td>Male</td>\n",
       "      <td>Head of Household</td>\n",
       "      <td>Married/Living together</td>\n",
       "      <td>Vocational/Specialised training</td>\n",
       "      <td>Formally employed Private</td>\n",
       "      <td>1.0</td>\n",
       "    </tr>\n",
       "    <tr>\n",
       "      <th>2</th>\n",
       "      <td>Kenya</td>\n",
       "      <td>2018</td>\n",
       "      <td>uniqueid_6065</td>\n",
       "      <td>Rural</td>\n",
       "      <td>No</td>\n",
       "      <td>3</td>\n",
       "      <td>77</td>\n",
       "      <td>Female</td>\n",
       "      <td>Parent</td>\n",
       "      <td>Married/Living together</td>\n",
       "      <td>No formal education</td>\n",
       "      <td>Remittance Dependent</td>\n",
       "      <td>0.0</td>\n",
       "    </tr>\n",
       "    <tr>\n",
       "      <th>3</th>\n",
       "      <td>Kenya</td>\n",
       "      <td>2018</td>\n",
       "      <td>uniqueid_6072</td>\n",
       "      <td>Rural</td>\n",
       "      <td>No</td>\n",
       "      <td>6</td>\n",
       "      <td>39</td>\n",
       "      <td>Female</td>\n",
       "      <td>Head of Household</td>\n",
       "      <td>Married/Living together</td>\n",
       "      <td>Primary education</td>\n",
       "      <td>Remittance Dependent</td>\n",
       "      <td>0.0</td>\n",
       "    </tr>\n",
       "  </tbody>\n",
       "</table>\n",
       "</div>"
      ],
      "text/plain": [
       "  country  year       uniqueid location_type cellphone_access  household_size  \\\n",
       "0   Kenya  2018  uniqueid_6056         Urban              Yes               3   \n",
       "1   Kenya  2018  uniqueid_6060         Urban              Yes               7   \n",
       "2   Kenya  2018  uniqueid_6065         Rural               No               3   \n",
       "3   Kenya  2018  uniqueid_6072         Rural               No               6   \n",
       "\n",
       "   age_of_respondent gender_of_respondent relationship_with_head  \\\n",
       "0                 30                 Male      Head of Household   \n",
       "1                 51                 Male      Head of Household   \n",
       "2                 77               Female                 Parent   \n",
       "3                 39               Female      Head of Household   \n",
       "\n",
       "            marital_status                  education_level  \\\n",
       "0  Married/Living together              Secondary education   \n",
       "1  Married/Living together  Vocational/Specialised training   \n",
       "2  Married/Living together              No formal education   \n",
       "3  Married/Living together                Primary education   \n",
       "\n",
       "                       job_type  bank_account  \n",
       "0  Formally employed Government           1.0  \n",
       "1     Formally employed Private           1.0  \n",
       "2          Remittance Dependent           0.0  \n",
       "3          Remittance Dependent           0.0  "
      ]
     },
     "execution_count": 196,
     "metadata": {},
     "output_type": "execute_result"
    }
   ],
   "source": [
    "test_set.head(4)"
   ]
  },
  {
   "cell_type": "code",
   "execution_count": 49,
   "metadata": {},
   "outputs": [],
   "source": [
    "soumissions = pd.DataFrame(\n",
    "    {\"unique_id\": test_set[\"uniqueid\"] + \" x \" + test_set[\"country\"], \"bank_account\": test_set['bank_account'].astype(int)})\n",
    "soumissions.to_csv(\n",
    "    f'submissions/soumission_{dt.now().strftime(format=\"%Y-%m-%d_%Hh%M\")}.csv', index=False)"
   ]
  },
  {
   "cell_type": "code",
   "execution_count": 51,
   "metadata": {},
   "outputs": [
    {
     "data": {
      "text/html": [
       "<div>\n",
       "<style scoped>\n",
       "    .dataframe tbody tr th:only-of-type {\n",
       "        vertical-align: middle;\n",
       "    }\n",
       "\n",
       "    .dataframe tbody tr th {\n",
       "        vertical-align: top;\n",
       "    }\n",
       "\n",
       "    .dataframe thead th {\n",
       "        text-align: right;\n",
       "    }\n",
       "</style>\n",
       "<table border=\"1\" class=\"dataframe\">\n",
       "  <thead>\n",
       "    <tr style=\"text-align: right;\">\n",
       "      <th></th>\n",
       "      <th>unique_id</th>\n",
       "      <th>bank_account</th>\n",
       "    </tr>\n",
       "  </thead>\n",
       "  <tbody>\n",
       "    <tr>\n",
       "      <th>0</th>\n",
       "      <td>uniqueid_6056 x Kenya</td>\n",
       "      <td>1</td>\n",
       "    </tr>\n",
       "    <tr>\n",
       "      <th>1</th>\n",
       "      <td>uniqueid_6060 x Kenya</td>\n",
       "      <td>1</td>\n",
       "    </tr>\n",
       "    <tr>\n",
       "      <th>2</th>\n",
       "      <td>uniqueid_6065 x Kenya</td>\n",
       "      <td>0</td>\n",
       "    </tr>\n",
       "    <tr>\n",
       "      <th>3</th>\n",
       "      <td>uniqueid_6072 x Kenya</td>\n",
       "      <td>0</td>\n",
       "    </tr>\n",
       "    <tr>\n",
       "      <th>4</th>\n",
       "      <td>uniqueid_6073 x Kenya</td>\n",
       "      <td>0</td>\n",
       "    </tr>\n",
       "    <tr>\n",
       "      <th>...</th>\n",
       "      <td>...</td>\n",
       "      <td>...</td>\n",
       "    </tr>\n",
       "    <tr>\n",
       "      <th>10081</th>\n",
       "      <td>uniqueid_2998 x Uganda</td>\n",
       "      <td>0</td>\n",
       "    </tr>\n",
       "    <tr>\n",
       "      <th>10082</th>\n",
       "      <td>uniqueid_2999 x Uganda</td>\n",
       "      <td>0</td>\n",
       "    </tr>\n",
       "    <tr>\n",
       "      <th>10083</th>\n",
       "      <td>uniqueid_3000 x Uganda</td>\n",
       "      <td>0</td>\n",
       "    </tr>\n",
       "    <tr>\n",
       "      <th>10084</th>\n",
       "      <td>uniqueid_3001 x Uganda</td>\n",
       "      <td>0</td>\n",
       "    </tr>\n",
       "    <tr>\n",
       "      <th>10085</th>\n",
       "      <td>uniqueid_3002 x Uganda</td>\n",
       "      <td>0</td>\n",
       "    </tr>\n",
       "  </tbody>\n",
       "</table>\n",
       "<p>10086 rows × 2 columns</p>\n",
       "</div>"
      ],
      "text/plain": [
       "                    unique_id  bank_account\n",
       "0       uniqueid_6056 x Kenya             1\n",
       "1       uniqueid_6060 x Kenya             1\n",
       "2       uniqueid_6065 x Kenya             0\n",
       "3       uniqueid_6072 x Kenya             0\n",
       "4       uniqueid_6073 x Kenya             0\n",
       "...                       ...           ...\n",
       "10081  uniqueid_2998 x Uganda             0\n",
       "10082  uniqueid_2999 x Uganda             0\n",
       "10083  uniqueid_3000 x Uganda             0\n",
       "10084  uniqueid_3001 x Uganda             0\n",
       "10085  uniqueid_3002 x Uganda             0\n",
       "\n",
       "[10086 rows x 2 columns]"
      ]
     },
     "execution_count": 51,
     "metadata": {},
     "output_type": "execute_result"
    }
   ],
   "source": [
    "soumissions"
   ]
  }
 ],
 "metadata": {
  "kernelspec": {
   "display_name": "Python 3",
   "language": "python",
   "name": "python3"
  },
  "language_info": {
   "codemirror_mode": {
    "name": "ipython",
    "version": 3
   },
   "file_extension": ".py",
   "mimetype": "text/x-python",
   "name": "python",
   "nbconvert_exporter": "python",
   "pygments_lexer": "ipython3",
   "version": "3.10.10"
  },
  "orig_nbformat": 4,
  "vscode": {
   "interpreter": {
    "hash": "984f0d32ec04950e2fefa43e7d38885b8e5f7ace114fa5bde7896afdbe1d6c9f"
   }
  }
 },
 "nbformat": 4,
 "nbformat_minor": 2
}
